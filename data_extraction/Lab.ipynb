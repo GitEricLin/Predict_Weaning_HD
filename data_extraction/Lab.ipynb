{
 "cells": [
  {
   "cell_type": "code",
   "execution_count": 1,
   "metadata": {},
   "outputs": [],
   "source": [
    "import os\n",
    "import numpy as np\n",
    "import pandas as pd\n",
    "import matplotlib.pyplot as plt\n",
    "import psycopg2\n",
    "import getpass\n",
    "import pdvega\n",
    "import time\n",
    "from configobj import ConfigObj"
   ]
  },
  {
   "cell_type": "code",
   "execution_count": 2,
   "metadata": {
    "scrolled": true
   },
   "outputs": [
    {
     "name": "stdout",
     "output_type": "stream",
     "text": [
      "Database: eicu\n",
      "Username: postgres\n",
      "Password: ········\n"
     ]
    }
   ],
   "source": [
    "# Create a posgresql database connection using settings from config file \n",
    "\n",
    "# Create a database connection using settings from config file\n",
    "config='../db/config.ini'\n",
    "# connection info\n",
    "conn_info = dict()\n",
    "if os.path.isfile(config):\n",
    "    config = ConfigObj(config)\n",
    "    conn_info[\"sqluser\"] = config['username']\n",
    "    conn_info[\"sqlpass\"] = config['password']\n",
    "    conn_info[\"sqlhost\"] = config['host']\n",
    "    conn_info[\"sqlport\"] = config['port']\n",
    "    conn_info[\"dbname\"] = config['dbname']\n",
    "    conn_info[\"schema_name\"] = config['schema_name']\n",
    "else:\n",
    "    conn_info[\"sqluser\"] = 'postgres'\n",
    "    conn_info[\"sqlpass\"] = '243'\n",
    "    conn_info[\"sqlhost\"] = 'localhost'\n",
    "    conn_info[\"sqlport\"] = 5432\n",
    "    conn_info[\"dbname\"] = 'eicu'\n",
    "    conn_info[\"schema_name\"] = 'public,eicu'\n",
    "    \n",
    "# Connect to the eICU database\n",
    "print('Database: {}'.format(conn_info['dbname']))\n",
    "print('Username: {}'.format(conn_info[\"sqluser\"]))\n",
    "if conn_info[\"sqlpass\"] == '243':\n",
    "    # try connecting without password, i.e. peer or OS authentication\n",
    "    try:\n",
    "        if (conn_info[\"sqlhost\"] == 'localhost') & (conn_info[\"sqlport\"]=='5432'):\n",
    "            con = psycopg2.connect(dbname=conn_info[\"dbname\"],\n",
    "                                    user=conn_info[\"sqluser\"])            \n",
    "        else:\n",
    "            con = psycopg2.connect(dbname=conn_info[\"dbname\"],\n",
    "                                    host=conn_info[\"sqlhost\"],\n",
    "                                    port=conn_info[\"sqlport\"],\n",
    "                                    user=conn_info[\"sqluser\"])\n",
    "    except:\n",
    "        conn_info[\"sqlpass\"] = getpass.getpass('Password: ')\n",
    "    \n",
    "        con = psycopg2.connect(dbname=conn_info[\"dbname\"],\n",
    "                                host=conn_info[\"sqlhost\"],\n",
    "                                port=conn_info[\"sqlport\"],\n",
    "                                user=conn_info[\"sqluser\"],\n",
    "                                password=conn_info[\"sqlpass\"])\n",
    "query_schema = 'set search_path to ' + conn_info['schema_name'] + ';'"
   ]
  },
  {
   "cell_type": "code",
   "execution_count": 4,
   "metadata": {
    "scrolled": true
   },
   "outputs": [],
   "source": [
    "#import patient data, if not exsit allpatientdata.csv file than please excute the patientdata.ipynb file first\n",
    "df=pd.read_csv(os.getcwd()+'\\\\allpatientfile.csv')"
   ]
  },
  {
   "cell_type": "code",
   "execution_count": 5,
   "metadata": {},
   "outputs": [],
   "source": [
    "def main():\n",
    "    ftName_0 = ['platelets x 1000', 'WBC x 1000', 'Hgb', 'chloride', 'glucose', 'potassium', 'calcium', 'BUN', \n",
    "                'creatinine', 'sodium', 'bedside glucose','magnesium', 'bicarbonate', 'total bilirubin', 'alkaline phos.',\n",
    "                'paCO2', 'paO2', 'HCO3', 'troponin - I', 'albumin', 'pH', 'total protein',\n",
    "                'phosphate', 'direct bilirubin', 'PT - INR', 'PTT', 'lactate', 'fibrinogen', 'CPK-MB INDEX', 'CPK',\n",
    "                'CPK-MB', 'HDL', 'LDL', 'total cholesterol', 'PTT ratio', 'TSH', 'ammonia',\n",
    "                'amylase', 'lipase', 'T4', 'Vitamin B12', 'Fe', 'TIBC', 'ionized calcium', 'Ferritin',\n",
    "                'cortisol', 'free T4', 'T3', 'uric acid', 'serum osmolality', 'BNP', 'troponin - T',\n",
    "                'CRP', 'Fe/TIBC Ratio', 'LDH', 'transferrin', 'prealbumin', 'CRP-hs']\n",
    "    ftName = ['patientunitstayid']\n",
    "    for i in range(0,len(ftName_0)):\n",
    "        for j in range(0,30):\n",
    "            ftName.append('%s D%02d'%(ftName_0[i], j+1))\n",
    "    df_L = pd.DataFrame(columns= ftName)\n",
    "    th = 0\n",
    "    for i in range(0,len(df)):\n",
    "        print(\"%d/%d: %s\"%(i,len(df),df['patientunitstayid'][i]),end='\\r')\n",
    "        df_L = Lab(df['patientunitstayid'][i], df['Firstday'][i], df['LoS'][i],th,df_L, ftName_0)\n",
    "        th=th+1\n",
    "    df_L.to_csv(os.getcwd()+'\\\\lab.csv',index=False)"
   ]
  },
  {
   "cell_type": "code",
   "execution_count": 6,
   "metadata": {},
   "outputs": [],
   "source": [
    "#可調整輸出的方式\n",
    "#adjust the extract data into output format\n",
    "def Featrue_all_value_with_day(ft_name, day, df_lab):\n",
    "    temp_1 = [-0.001]\n",
    "    for j in range(0,len(df_lab.index)):\n",
    "        if df_lab['labname'][j] == ft_name:  \n",
    "                if df_lab['date'][j] == day: \n",
    "                    if df_lab['labname'][j] == 'CRP':\n",
    "                        if df_lab['labmeasurenameinterface'][j] == 'mg/L':\n",
    "                            df_lab['labresult'][j] = df_lab['labresult'][j]/10\n",
    "                            if df_lab['labresult'][j] < 0.3:\n",
    "                                df_lab['labresult'][j] = 0.3\n",
    "                    temp_1.append(df_lab['labresult'][j])\n",
    "    if len(temp_1) != 1:\n",
    "        temp_1.pop(0)\n",
    "    #print(temp_1)\n",
    "    return np.max(temp_1)"
   ]
  },
  {
   "cell_type": "code",
   "execution_count": 9,
   "metadata": {},
   "outputs": [],
   "source": [
    "def Lab(patientunitstayid, Firstday, lenofstay, th, df_L,ftName_0):\n",
    "    query = query_schema + \"\"\"\n",
    "    select *\n",
    "    from lab\n",
    "    where patientunitstayid = '{}'\n",
    "    order by labresultoffset\n",
    "    \"\"\".format(int(patientunitstayid))\n",
    "    df_lab = pd.read_sql_query(query, con)\n",
    "    df_lab = df_lab[['patientunitstayid','labresultoffset','labname','labresult','labmeasurenameinterface']]\n",
    "\n",
    "    #calculate event time by days\n",
    "    date = np.zeros((len(df_lab.index),), dtype=int)\n",
    "    df_lab['date'] = date\n",
    "    for i in range(0,len(df_lab.index)):\n",
    "        temp = df_lab['labresultoffset'][i]\n",
    "\n",
    "        if temp < Firstday:\n",
    "            df_lab['date'][i] = 1\n",
    "        elif temp >= Firstday:\n",
    "            temp = temp - Firstday\n",
    "            df_lab['date'][i] = temp // (24*60) + 2\n",
    "\n",
    "    if df_lab.size == 0:\n",
    "        space_row = [patientunitstayid]\n",
    "        for i in range(len(ftName_0)):\n",
    "            for j in range(0,30):\n",
    "                if j >= int(lenofstay):\n",
    "                    space_row.append(-0.001)\n",
    "                else:\n",
    "                    space_row.append(-0.001)\n",
    "        df_L = df_L.append(pd.Series(space_row, index=df_L.columns), ignore_index=True)\n",
    "    else:\n",
    "        space_row = [patientunitstayid]\n",
    "        for i in range(len(ftName_0)):\n",
    "            for j in range(0,30):\n",
    "                if j >= int(lenofstay):\n",
    "                    space_row.append(-0.001)\n",
    "                else:\n",
    "                    space_row.append(0)\n",
    "        df_L = df_L.append(pd.Series(space_row, index=df_L.columns), ignore_index=True)\n",
    "        #將計算好的值放入表格中\n",
    "        #put the calculated value into sheet and call \"Feature_all_value_with_day\" function to turning it into specific format\n",
    "        for i in range(0,len(ftName_0)):\n",
    "            for j in range(0,30):\n",
    "                if j >= int(lenofstay):\n",
    "                    break\n",
    "                else:\n",
    "                    str_temp = '%s D%02d'%(ftName_0[i],j+1)\n",
    "                    df_L[str_temp][th] = Featrue_all_value_with_day(ftName_0[i],j+1,df_lab)\n",
    "    return df_L"
   ]
  },
  {
   "cell_type": "code",
   "execution_count": 10,
   "metadata": {
    "scrolled": true
   },
   "outputs": [
    {
     "name": "stdout",
     "output_type": "stream",
     "text": [
      "0/2676: 251510.0\r"
     ]
    },
    {
     "name": "stderr",
     "output_type": "stream",
     "text": [
      "c:\\users\\userpc\\miniconda3\\envs\\243\\lib\\site-packages\\ipykernel_launcher.py:18: SettingWithCopyWarning: \n",
      "A value is trying to be set on a copy of a slice from a DataFrame\n",
      "\n",
      "See the caveats in the documentation: https://pandas.pydata.org/pandas-docs/stable/user_guide/indexing.html#returning-a-view-versus-a-copy\n",
      "c:\\users\\userpc\\miniconda3\\envs\\243\\lib\\site-packages\\ipykernel_launcher.py:21: SettingWithCopyWarning: \n",
      "A value is trying to be set on a copy of a slice from a DataFrame\n",
      "\n",
      "See the caveats in the documentation: https://pandas.pydata.org/pandas-docs/stable/user_guide/indexing.html#returning-a-view-versus-a-copy\n"
     ]
    },
    {
     "name": "stdout",
     "output_type": "stream",
     "text": [
      "10/2676: 276269.0\r"
     ]
    },
    {
     "name": "stderr",
     "output_type": "stream",
     "text": [
      "c:\\users\\userpc\\miniconda3\\envs\\243\\lib\\site-packages\\ipykernel_launcher.py:10: SettingWithCopyWarning: \n",
      "A value is trying to be set on a copy of a slice from a DataFrame\n",
      "\n",
      "See the caveats in the documentation: https://pandas.pydata.org/pandas-docs/stable/user_guide/indexing.html#returning-a-view-versus-a-copy\n",
      "  # Remove the CWD from sys.path while we load stuff.\n"
     ]
    },
    {
     "name": "stdout",
     "output_type": "stream",
     "text": [
      "1289/2676: 1336774.0\r"
     ]
    },
    {
     "name": "stderr",
     "output_type": "stream",
     "text": [
      "c:\\users\\userpc\\miniconda3\\envs\\243\\lib\\site-packages\\ipykernel_launcher.py:12: SettingWithCopyWarning: \n",
      "A value is trying to be set on a copy of a slice from a DataFrame\n",
      "\n",
      "See the caveats in the documentation: https://pandas.pydata.org/pandas-docs/stable/user_guide/indexing.html#returning-a-view-versus-a-copy\n",
      "  if sys.path[0] == '':\n"
     ]
    },
    {
     "name": "stdout",
     "output_type": "stream",
     "text": [
      "2675/2676: 3353226.0\r"
     ]
    }
   ],
   "source": [
    "if __name__ is '__main__':\n",
    "    main()"
   ]
  },
  {
   "cell_type": "code",
   "execution_count": 11,
   "metadata": {},
   "outputs": [],
   "source": [
    "#mask\n",
    "df=pd.read_csv(os.getcwd()+'\\\\lab.csv')\n",
    "df= df.mask(df==-0.001)\n",
    "df= df.mask(df==0)\n",
    "df.mask(df==' ').to_csv(os.getcwd()+'\\\\lab_mask.csv',index=False)"
   ]
  },
  {
   "cell_type": "code",
   "execution_count": 13,
   "metadata": {},
   "outputs": [],
   "source": [
    "#filtering the outliner\n",
    "df=pd.read_csv(os.getcwd()+'\\\\lab_mask.csv')\n",
    "for i in range(0,len(df.index)):\n",
    "    for j in range(1,30):\n",
    "        if df['platelets x 1000 D%02d'%j][i] > 1000:\n",
    "            df['platelets x 1000 D%02d'%j][i]=np.nan\n",
    "            \n",
    "        if df['WBC x 1000 D%02d'%j][i] < 0.5:\n",
    "            df['WBC x 1000 D%02d'%j][i] = 0.5\n",
    "            \n",
    "        if df['WBC x 1000 D%02d'%j][i] > 100:\n",
    "            df['WBC x 1000 D%02d'%j][i]=np.nan\n",
    "            \n",
    "        if df['glucose D%02d'%j][i] > 1000:\n",
    "            df['glucose D%02d'%j][i] =np.nan\n",
    "            \n",
    "        if df['potassium D%02d'%j][i] > 10:\n",
    "            df['potassium D%02d'%j][i]=np.nan\n",
    "            \n",
    "        if df['BUN D%02d'%j][i] > 200:\n",
    "            df['BUN D%02d'%j][i]=np.nan\n",
    "\n",
    "        if df['alkaline phos. D%02d'%j][i] > 1000:\n",
    "            df['alkaline phos. D%02d'%j][i]=np.nan\n",
    "  \n",
    " \n",
    "        if df['albumin D%02d'%j][i] > 6:\n",
    "            df['albumin D%02d'%j][i]=np.nan\n",
    "\n",
    "        if df['CPK D%02d'%j][i] > 100000:\n",
    "            df['CPK D%02d'%j][i]=np.nan\n",
    "\n",
    "        if df['amylase D%02d'%j][i] > 5000:\n",
    "            df['amylase D%02d'%j][i]=np.nan\n",
    "\n",
    "        if df['lipase D%02d'%j][i] > 5000:\n",
    "            df['lipase D%02d'%j][i]=np.nan\n",
    "           \n",
    "        if df['CRP D%02d'%j][i] > 50:\n",
    "            df['CRP D%02d'%j][i] = 50\n",
    "    \n",
    "        if df['T4 D%02d'%j][i] > 100:\n",
    "            df['T4 D%02d'%j][i]=np.nan\n",
    "\n",
    "        if df['Vitamin B12 D%02d'%j][i] > 2000:\n",
    "            df['Vitamin B12 D%02d'%j][i]=np.nan\n",
    "\n",
    "        if df['Ferritin D%02d'%j][i] > 10000:\n",
    "            df['Ferritin D%02d'%j][i]=np.nan\n",
    "\n",
    "        if df['cortisol D%02d'%j][i] > 100:\n",
    "            df['cortisol D%02d'%j][i]=np.nan\n",
    "\n",
    "        if df['serum osmolality D%02d'%j][i] > 500:\n",
    "            df['serum osmolality D%02d'%j][i]=np.nan\n",
    "\n",
    "        if df['BNP D%02d'%j][i] > 35000:\n",
    "            df['BNP D%02d'%j][i]=np.nan\n",
    "\n",
    "        if df['Fe/TIBC Ratio D%02d'%j][i] > 100:\n",
    "            df['Fe/TIBC Ratio D%02d'%j][i]=np.nan\n",
    "\n",
    "        if df['LDH D%02d'%j][i] > 10000:\n",
    "            df['LDH D%02d'%j][i]=np.nan\n",
    "\n",
    "        if df['transferrin D%02d'%j][i] > 300:\n",
    "            df['transferrin D%02d'%j][i]=np.nan\n",
    "\n",
    "        if df['prealbumin D%02d'%j][i] > 50:\n",
    "            df['prealbumin D%02d'%j][i]=np.nan\n",
    "\n",
    "        if df['Hgb D%02d'%j][i] > 30:\n",
    "            df['Hgb D%02d'%j][i]=np.nan\n",
    "\n",
    "        if df['calcium D%02d'%j][i] > 30:\n",
    "            df['calcium D%02d'%j][i]=np.nan\n",
    "\n",
    "        if df['creatinine D%02d'%j][i] > 40:\n",
    "            df['creatinine D%02d'%j][i]=np.nan\n",
    "\n",
    "        if df['magnesium D%02d'%j][i] > 15:\n",
    "            df['magnesium D%02d'%j][i]=np.nan\n",
    "\n",
    "        if df['pH D%02d'%j][i] > 20:\n",
    "            df['pH D%02d'%j][i]=np.nan\n",
    "\n",
    "        if df['phosphate D%02d'%j][i] > 40:\n",
    "            df['phosphate D%02d'%j][i]=np.nan \n",
    "\n",
    "        if df['CPK-MB INDEX D%02d'%j][i] > 100:\n",
    "            df['CPK-MB INDEX D%02d'%j][i]=np.nan\n",
    "\n",
    "        if df['TIBC D%02d'%j][i] > 1000:\n",
    "            df['TIBC D%02d'%j][i]=np.nan\n",
    "\n",
    "        if df['ionized calcium D%02d'%j][i] > 10:\n",
    "            df['ionized calcium D%02d'%j][i]=np.nan\n",
    "\n",
    "        if df['troponin - T D%02d'%j][i] > 20:\n",
    "            df['troponin - T D%02d'%j][i]=np.nan\n",
    "\n",
    "df.to_csv(os.getcwd()+'\\\\lab_mask.csv',index=False)\n",
    "#print(len(pid))"
   ]
  },
  {
   "cell_type": "code",
   "execution_count": 16,
   "metadata": {},
   "outputs": [
    {
     "name": "stdout",
     "output_type": "stream",
     "text": [
      "2675/2676:3353226.0\r"
     ]
    }
   ],
   "source": [
    "#complement\n",
    "\n",
    "df = pd.read_csv(os.getcwd()+'\\\\lab_mask.csv')\n",
    "ftName_0 = ['platelets x 1000', 'WBC x 1000', 'Hgb', 'chloride', 'glucose', 'potassium', 'calcium', 'BUN', \n",
    "                'creatinine', 'sodium', 'bedside glucose','magnesium', 'bicarbonate', 'total bilirubin', 'alkaline phos.',\n",
    "                'paCO2', 'paO2', 'HCO3', 'troponin - I',  'albumin', 'pH', 'total protein',\n",
    "                'phosphate', 'direct bilirubin', 'PT - INR', 'PTT', 'lactate', 'fibrinogen', 'CPK-MB INDEX', 'CPK',\n",
    "                'CPK-MB', 'HDL', 'LDL', 'total cholesterol',  'PTT ratio', 'TSH', 'ammonia',\n",
    "                'amylase', 'lipase', 'T4', 'Vitamin B12', 'Fe', 'TIBC', 'ionized calcium', 'Ferritin',\n",
    "                'cortisol', 'free T4', 'T3', 'uric acid', 'serum osmolality', 'BNP', 'troponin - T',\n",
    "                'CRP', 'Fe/TIBC Ratio', 'LDH', 'transferrin', 'prealbumin', 'CRP-hs']\n",
    "for i in range(0,len(df)):\n",
    "    print('%d/%d:%s'%(i,len(df),df['patientunitstayid'][i]),end='\\r')\n",
    "    for j in ftName_0:\n",
    "        current=0\n",
    "        flag=0\n",
    "        for day in range(1,31):\n",
    "            if(not pd.isna(df['%s D%02d'%(j,day)][i]) and flag==0):\n",
    "                flag=1#find first value of a month\n",
    "                current=df['%s D%02d'%(j,day)][i]\n",
    "                #print(current,flag,day)\n",
    "                break\n",
    "        if(flag==1):\n",
    "            #print(123)\n",
    "            for missing in range(1,day):\n",
    "                df['%s D%02d'%(j,missing)][i]=current\n",
    "            flag=2#if there is a null value than put the value of previous day into it\n",
    "        #print(df['%s D%02d'%('Nasal cannula O2',1)][i])\n",
    "        if(flag==2):\n",
    "            for missing in range(2,31):\n",
    "                if(pd.isna(df['%s D%02d'%(j,missing)][i]) and not pd.isna(df['%s D%02d'%(j,missing-1)][i])):\n",
    "                    df['%s D%02d'%(j,missing)][i]=df['%s D%02d'%(j,missing-1)][i]\n",
    "\n",
    "\n",
    "df.to_csv('lab_com.csv',index=False)\n",
    "                "
   ]
  },
  {
   "cell_type": "code",
   "execution_count": null,
   "metadata": {},
   "outputs": [],
   "source": []
  }
 ],
 "metadata": {
  "kernelspec": {
   "display_name": "Python 3 (ipykernel)",
   "language": "python",
   "name": "python3"
  },
  "language_info": {
   "codemirror_mode": {
    "name": "ipython",
    "version": 3
   },
   "file_extension": ".py",
   "mimetype": "text/x-python",
   "name": "python",
   "nbconvert_exporter": "python",
   "pygments_lexer": "ipython3",
   "version": "3.7.4"
  }
 },
 "nbformat": 4,
 "nbformat_minor": 4
}
