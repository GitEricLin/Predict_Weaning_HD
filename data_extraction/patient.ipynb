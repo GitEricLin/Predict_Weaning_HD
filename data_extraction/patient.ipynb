{
 "cells": [
  {
   "cell_type": "code",
   "execution_count": 16,
   "id": "bd0d863c",
   "metadata": {},
   "outputs": [],
   "source": [
    "import os\n",
    "import numpy as np\n",
    "import pandas as pd\n",
    "import matplotlib.pyplot as plt\n",
    "import psycopg2\n",
    "import getpass\n",
    "import pdvega\n",
    "import time\n",
    "import random\n",
    "from configobj import ConfigObj\n",
    "from glob import glob"
   ]
  },
  {
   "cell_type": "code",
   "execution_count": 17,
   "id": "f5412774",
   "metadata": {},
   "outputs": [
    {
     "name": "stdout",
     "output_type": "stream",
     "text": [
      "Database: eicu\n",
      "Username: postgres\n",
      "Password: ········\n"
     ]
    }
   ],
   "source": [
    "# Create a posgresql database connection using settings from config file\n",
    "# Create a database connection using settings from config file\n",
    "config='../db/config.ini'\n",
    "# connection info\n",
    "conn_info = dict()\n",
    "if os.path.isfile(config):\n",
    "    config = ConfigObj(config)\n",
    "    conn_info[\"sqluser\"] = config['username']\n",
    "    conn_info[\"sqlpass\"] = config['password']\n",
    "    conn_info[\"sqlhost\"] = config['host']\n",
    "    conn_info[\"sqlport\"] = config['port']\n",
    "    conn_info[\"dbname\"] = config['dbname']\n",
    "    conn_info[\"schema_name\"] = config['schema_name']\n",
    "else:\n",
    "    conn_info[\"sqluser\"] = 'postgres'\n",
    "    conn_info[\"sqlpass\"] = '243'\n",
    "    conn_info[\"sqlhost\"] = 'localhost'\n",
    "    conn_info[\"sqlport\"] = 5432\n",
    "    conn_info[\"dbname\"] = 'eicu'\n",
    "    conn_info[\"schema_name\"] = 'public,eicu'\n",
    "    \n",
    "# Connect to the eICU database\n",
    "print('Database: {}'.format(conn_info['dbname']))\n",
    "print('Username: {}'.format(conn_info[\"sqluser\"]))\n",
    "if conn_info[\"sqlpass\"] == '243':\n",
    "    # try connecting without password, i.e. peer or OS authentication\n",
    "    try:\n",
    "        if (conn_info[\"sqlhost\"] == 'localhost') & (conn_info[\"sqlport\"]=='5432'):\n",
    "            con = psycopg2.connect(dbname=conn_info[\"dbname\"],\n",
    "                                   user=conn_info[\"sqluser\"])            \n",
    "        else:\n",
    "            con = psycopg2.connect(dbname=conn_info[\"dbname\"],\n",
    "                                   host=conn_info[\"sqlhost\"],\n",
    "                                   port=conn_info[\"sqlport\"],\n",
    "                                   user=conn_info[\"sqluser\"])\n",
    "    except:\n",
    "        conn_info[\"sqlpass\"] = getpass.getpass('Password: ')\n",
    "\n",
    "        con = psycopg2.connect(dbname=conn_info[\"dbname\"],\n",
    "                               host=conn_info[\"sqlhost\"],\n",
    "                               port=conn_info[\"sqlport\"],\n",
    "                               user=conn_info[\"sqluser\"],\n",
    "                               password=conn_info[\"sqlpass\"])\n",
    "query_schema = 'set search_path to ' + conn_info['schema_name'] + ';'"
   ]
  },
  {
   "cell_type": "code",
   "execution_count": 72,
   "id": "18832b76",
   "metadata": {},
   "outputs": [],
   "source": [
    "df=pd.read_csv(os.getcwd()+'\\\\allpatientdata.csv')"
   ]
  },
  {
   "cell_type": "code",
   "execution_count": 73,
   "id": "ee844eed",
   "metadata": {},
   "outputs": [],
   "source": [
    "def main():\n",
    "    start = time.clock()\n",
    "    ftName_0 = ['uniquepid','patienthealthsystemstayid','patientunitstayid','unitvisitnumber','gender',\n",
    "                'age','height','weight','LoS','Firstday']\n",
    " \n",
    "    df_P = pd.DataFrame(columns= ftName_0)\n",
    "    th = 0\n",
    "    for i in range(0,len(df)):\n",
    "        print('%d/%d:%s'%(i,len(df),df['patientunitstayid'][i]),end='\\r')\n",
    "        df_P = patient(df['patientunitstayid'][i], th, df_P, ftName_0)\n",
    "        th=th+1\n",
    "    df_P.to_csv(os.getcwd()+'\\\\allpatientfile.csv',index=False)\n",
    "    end = time.clock() - start\n",
    "    print(end)"
   ]
  },
  {
   "cell_type": "code",
   "execution_count": 74,
   "id": "1a6dcf33",
   "metadata": {},
   "outputs": [],
   "source": [
    "#Create Patient file\n",
    "def patient(patientunitstayid,th,df_P,ftName_0):\n",
    "    query = query_schema + \"\"\"\n",
    "    select *\n",
    "    from patient\n",
    "    where patientunitstayid='{}'\n",
    "    order by uniquepid,patient.patientunitstayid\n",
    "    \"\"\".format(patientunitstayid)\n",
    "    df_patient = pd.read_sql_query(query, con)\n",
    "    df_patient = df_patient[['uniquepid','patienthealthsystemstayid','patientunitstayid','unitvisitnumber','gender','age','admissionheight','admissionweight', 'dischargeweight',\n",
    "                             'hospitaladmitoffset', 'hospitaldischargeoffset', 'hospitaladmittime24', 'hospitaldischargetime24']]\n",
    "\n",
    "    #print(df_patient)\n",
    "    for i in range (0,len(df_patient.columns)):\n",
    "        if df_patient.columns[i] == 'admissionheight':\n",
    "            tempC = list(df_patient.columns)\n",
    "            tempC[i] = 'height'\n",
    "            df_patient.columns = tempC\n",
    "        elif df_patient.columns[i] == 'admissionweight':\n",
    "            tempC = list(df_patient.columns)\n",
    "            tempC[i] = 'weight'\n",
    "            df_patient.columns = tempC\n",
    "    for i in range(0,len(df_patient.index)):  \n",
    "        if pd.isnull(df_patient['weight'][i]):\n",
    "            df_patient['weight'][i] = df_patient['dischargeweight'][i]\n",
    "    for i in range(0,len(df_patient.columns)):\n",
    "        if df_patient.columns[i] == 'dischargeweight':\n",
    "            break\n",
    "    \n",
    "    space_row = []\n",
    "    for i in range(len(ftName_0)):\n",
    "        space_row.append(-0.001)\n",
    "    #計算總住院天數及第一天換日分鐘數\n",
    "    #calculate the loS and turn the first \"day\" into \"minute\" \n",
    "    #space_columns = np.zeros((len(df.index),), dtype=int)\n",
    "    a=[]\n",
    "    b=[]\n",
    "    for i in range(0,len(df_patient.index)):\n",
    "        struct_time = time.strptime(df_patient['hospitaladmittime24'][i],'%H:%M:%S')\n",
    "        hospitaladmittime = struct_time.tm_hour*60 + struct_time.tm_min + struct_time.tm_sec/60\n",
    "        Firstday = df_patient['hospitaladmitoffset'][i] + (24*60 - hospitaladmittime)\n",
    "        lenofstay = (df_patient['hospitaldischargeoffset'][i] - Firstday)/ (24*60) + 1\n",
    "        if (lenofstay - int(lenofstay)) > 0:\n",
    "            lenofstay = lenofstay + 1\n",
    "        #print(int(lenofstay), Firstday)\n",
    "        a.append(int(lenofstay))\n",
    "        b.append(Firstday)\n",
    "        #print(\"Done\")\n",
    "        df_patient.insert(len(df_patient.columns),\"LoS\",a)\n",
    "        df_patient.insert(len(df_patient.columns),\"Firstday\",b)\n",
    "    df_P = df_P.append(pd.Series(space_row, index=df_P.columns), ignore_index=True)\n",
    "    for i in (ftName_0):\n",
    "        df_P[i][th] = df_patient[i][0]  \n",
    "    return df_P"
   ]
  },
  {
   "cell_type": "code",
   "execution_count": 75,
   "id": "8ef82f22",
   "metadata": {},
   "outputs": [
    {
     "name": "stderr",
     "output_type": "stream",
     "text": [
      "c:\\users\\userpc\\miniconda3\\envs\\243\\lib\\site-packages\\ipykernel_launcher.py:2: DeprecationWarning: time.clock has been deprecated in Python 3.3 and will be removed from Python 3.8: use time.perf_counter or time.process_time instead\n",
      "  \n",
      "c:\\users\\userpc\\miniconda3\\envs\\243\\lib\\site-packages\\ipykernel_launcher.py:53: SettingWithCopyWarning: \n",
      "A value is trying to be set on a copy of a slice from a DataFrame\n",
      "\n",
      "See the caveats in the documentation: https://pandas.pydata.org/pandas-docs/stable/user_guide/indexing.html#returning-a-view-versus-a-copy\n",
      "c:\\users\\userpc\\miniconda3\\envs\\243\\lib\\site-packages\\pandas\\core\\indexing.py:1732: SettingWithCopyWarning: \n",
      "A value is trying to be set on a copy of a slice from a DataFrame\n",
      "\n",
      "See the caveats in the documentation: https://pandas.pydata.org/pandas-docs/stable/user_guide/indexing.html#returning-a-view-versus-a-copy\n",
      "  self._setitem_single_block(indexer, value, name)\n"
     ]
    },
    {
     "name": "stdout",
     "output_type": "stream",
     "text": [
      "111.51550400000997\n"
     ]
    },
    {
     "name": "stderr",
     "output_type": "stream",
     "text": [
      "c:\\users\\userpc\\miniconda3\\envs\\243\\lib\\site-packages\\ipykernel_launcher.py:13: DeprecationWarning: time.clock has been deprecated in Python 3.3 and will be removed from Python 3.8: use time.perf_counter or time.process_time instead\n",
      "  del sys.path[0]\n"
     ]
    }
   ],
   "source": [
    "if __name__ is '__main__':\n",
    "    main()"
   ]
  },
  {
   "cell_type": "code",
   "execution_count": 78,
   "id": "f699b21c",
   "metadata": {},
   "outputs": [
    {
     "name": "stdout",
     "output_type": "stream",
     "text": [
      "2675/2676:3353226.0\r"
     ]
    }
   ],
   "source": [
    "#extract ESRD\n",
    "df=pd.read_csv(os.getcwd()+'\\\\allpatientfile.csv')\n",
    "d=[]\n",
    "for i in range(0,len(df)):\n",
    "    print(\"%d/%d:%s\"%(i,len(df),df['patientunitstayid'][i]),end='\\r')\n",
    "    query = query_schema + \"\"\"\n",
    "        select * from diagnosis where patientunitstayid='{}' and diagnosisstring like '%ESRD%'  \n",
    "        \"\"\".format(int(df['patientunitstayid'][i]))\n",
    "    df_esrd = pd.read_sql_query(query, con)\n",
    "    #print(df_dnr)\n",
    "    if(len(df_esrd)==0):\n",
    "        d.append(0)\n",
    "    else:\n",
    "        d.append(1)\n",
    "df.insert(len(df.columns),'ESRD',d)\n",
    "df.to_csv(os.getcwd()+'\\\\allpatientfile.csv',index=False)   "
   ]
  },
  {
   "cell_type": "code",
   "execution_count": 79,
   "id": "130b8e4f",
   "metadata": {
    "scrolled": true
   },
   "outputs": [
    {
     "name": "stdout",
     "output_type": "stream",
     "text": [
      "2675/2676:3353226.0\r"
     ]
    }
   ],
   "source": [
    "#extract Apache IV score\n",
    "df=pd.read_csv(os.getcwd()+'\\\\allpatientfile.csv')\n",
    "d=[]\n",
    "for i in range(0,len(df)):\n",
    "    print(\"%d/%d:%s\"%(i,len(df),df['patientunitstayid'][i]),end='\\r')\n",
    "    query = query_schema + \"\"\"\n",
    "        select apachescore\n",
    "        from apachePatientResult\n",
    "        where patientunitstayid = '{}'\n",
    "        \"\"\".format(int(df['patientunitstayid'][i]))\n",
    "    df_apc = pd.read_sql_query(query, con)\n",
    "    df_apc=df_apc[['apachescore']]\n",
    "    #print(df_apc)\n",
    "    if(len(df_apc)==0 or df_apc['apachescore'][0]==-1):\n",
    "        d.append(random.randint(20,30))\n",
    "        continue\n",
    "    else:\n",
    "        d.append(df_apc['apachescore'][0])\n",
    "df.insert(len(df.columns),'Apachescore',d)\n",
    "df.to_csv(os.getcwd()+'\\\\allpatientfile.csv',index=False)   "
   ]
  },
  {
   "cell_type": "code",
   "execution_count": 80,
   "id": "6055fe38",
   "metadata": {},
   "outputs": [
    {
     "name": "stdout",
     "output_type": "stream",
     "text": [
      "2675/2676:3353226.0\r"
     ]
    }
   ],
   "source": [
    "df=pd.read_csv(os.getcwd()+'\\\\allpatientfile.csv')\n",
    "c=[]\n",
    "d=[]\n",
    "for i in range(0,len(df)):\n",
    "    print('%d/%d:%s'%(i,len(df),df['patientunitstayid'][i]),end='\\r')\n",
    "    query = query_schema + \"\"\"\n",
    "    select * from patient where patientunitstayid='{}'\n",
    "    \"\"\".format(int(df['patientunitstayid'][i]))\n",
    "    df_patient = pd.read_sql_query(query, con)\n",
    "    df_patient=df_patient[['hospitaldischargeoffset','hospitaldischargestatus']]\n",
    "    c.append(df_patient['hospitaldischargeoffset'][0])\n",
    "    d.append(df_patient['hospitaldischargestatus'][0])\n",
    "df.insert(len(df.columns),'hospitaldischargeoffset',c)\n",
    "df.insert(len(df.columns),'hospitaldischargestatus',d)\n",
    "df.to_csv(os.getcwd()+'\\\\allpatientfile.csv',index=False)"
   ]
  },
  {
   "cell_type": "code",
   "execution_count": 83,
   "id": "3e6c7bcc",
   "metadata": {},
   "outputs": [
    {
     "name": "stdout",
     "output_type": "stream",
     "text": [
      "2675/2676:3353226.0\r"
     ]
    }
   ],
   "source": [
    "df=pd.read_csv(os.getcwd()+'\\\\allpatientfile.csv')\n",
    "unabridgedactualventdays=[]\n",
    "ethnicity=[]\n",
    "for i in range(0,len(df)):\n",
    "    print('%d/%d:%s'%(i,len(df),df['patientunitstayid'][i]),end='\\r')\n",
    "    ventday=[]\n",
    "    query = query_schema + \"\"\"\n",
    "    select * from patient,apachepatientresult where \n",
    "    patient.patientunitstayid=apachepatientresult.patientunitstayid and\n",
    "    patient.patientunitstayid = '{}'\n",
    "    \"\"\".format(int(df['patientunitstayid'][i]))\n",
    "    df_patient = pd.read_sql_query(query, con)\n",
    "    df_patient = df_patient[['unabridgedactualventdays','ethnicity']]\n",
    "    if(len(df_patient)!=0):\n",
    "        if(not pd.isna(df_patient['unabridgedactualventdays'][0])):\n",
    "            unabridgedactualventdays.append(df_patient['unabridgedactualventdays'][0])\n",
    "        if(not pd.isna(df_patient['ethnicity'][0])):\n",
    "            ethnicity.append(df_patient['ethnicity'][0])\n",
    "        if(pd.isna(df_patient['unabridgedactualventdays'][0])):\n",
    "            unabridgedactualventdays.append('NULL')\n",
    "        if(pd.isna(df_patient['ethnicity'][0])):\n",
    "            ethnicity.append('Other/Unknown')\n",
    "    else:\n",
    "        unabridgedactualventdays.append('NULL')\n",
    "        ethnicity.append('Other/Unknown')\n",
    "df.insert(len(df.columns),'unabridgedactualventdays',unabridgedactualventdays)\n",
    "df.insert(len(df.columns),'ethnicity',ethnicity)\n",
    "df.to_csv(os.getcwd()+'\\\\allpatientfile.csv',index=False)"
   ]
  },
  {
   "cell_type": "code",
   "execution_count": 84,
   "id": "9940b43a",
   "metadata": {},
   "outputs": [
    {
     "name": "stdout",
     "output_type": "stream",
     "text": [
      "2675/2676:3353226.0\r"
     ]
    }
   ],
   "source": [
    "\n",
    "df=pd.read_csv(os.getcwd()+'\\\\allpatientfile.csv')\n",
    "#unabridgedactualventdays=[]\n",
    "actualICULOS=[]\n",
    "for i in range(0,len(df)):\n",
    "    print('%d/%d:%s'%(i,len(df),df['patientunitstayid'][i]),end='\\r')\n",
    "    ventday=[]\n",
    "    query = query_schema + \"\"\"\n",
    "    select * from patient,apachepatientresult where \n",
    "    patient.patientunitstayid=apachepatientresult.patientunitstayid and\n",
    "    patient.patientunitstayid = '{}'\n",
    "    \"\"\".format(int(df['patientunitstayid'][i]))\n",
    "    df_patient = pd.read_sql_query(query, con)\n",
    "    df_patient = df_patient[['actualiculos']]\n",
    "    if(len(df_patient)!=0):\n",
    "        if(not pd.isna(df_patient['actualiculos'][0])):\n",
    "            actualICULOS.append(df_patient['actualiculos'][0])\n",
    "        if(pd.isna(df_patient['actualiculos'][0])):\n",
    "            actualICULOS.append('NULL')\n",
    "    else:\n",
    "        actualICULOS.append('NULL')\n",
    "df.insert(len(df.columns),'actualICULOS',actualICULOS)\n",
    "df.to_csv(os.getcwd()+'\\\\allpatientfile.csv',index=False)"
   ]
  },
  {
   "cell_type": "code",
   "execution_count": null,
   "id": "59097910",
   "metadata": {},
   "outputs": [],
   "source": []
  }
 ],
 "metadata": {
  "kernelspec": {
   "display_name": "Python 3 (ipykernel)",
   "language": "python",
   "name": "python3"
  },
  "language_info": {
   "codemirror_mode": {
    "name": "ipython",
    "version": 3
   },
   "file_extension": ".py",
   "mimetype": "text/x-python",
   "name": "python",
   "nbconvert_exporter": "python",
   "pygments_lexer": "ipython3",
   "version": "3.7.4"
  }
 },
 "nbformat": 4,
 "nbformat_minor": 5
}
