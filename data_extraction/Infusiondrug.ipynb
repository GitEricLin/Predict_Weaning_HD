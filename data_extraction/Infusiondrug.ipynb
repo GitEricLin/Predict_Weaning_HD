{
 "cells": [
  {
   "cell_type": "code",
   "execution_count": 1,
   "metadata": {},
   "outputs": [],
   "source": [
    "import os\n",
    "import numpy as np\n",
    "import pandas as pd\n",
    "import matplotlib.pyplot as plt\n",
    "import psycopg2\n",
    "import getpass\n",
    "import pdvega\n",
    "import time\n",
    "from configobj import ConfigObj"
   ]
  },
  {
   "cell_type": "code",
   "execution_count": 2,
   "metadata": {},
   "outputs": [
    {
     "name": "stdout",
     "output_type": "stream",
     "text": [
      "Database: eicu\n",
      "Username: postgres\n",
      "Password: ········\n"
     ]
    }
   ],
   "source": [
    "# Create a posgresql database connection using settings from config file \n",
    "\n",
    "# Create a database connection using settings from config file\n",
    "config='../db/config.ini'\n",
    "# connection info\n",
    "conn_info = dict()\n",
    "if os.path.isfile(config):\n",
    "    config = ConfigObj(config)\n",
    "    conn_info[\"sqluser\"] = config['username']\n",
    "    conn_info[\"sqlpass\"] = config['password']\n",
    "    conn_info[\"sqlhost\"] = config['host']\n",
    "    conn_info[\"sqlport\"] = config['port']\n",
    "    conn_info[\"dbname\"] = config['dbname']\n",
    "    conn_info[\"schema_name\"] = config['schema_name']\n",
    "else:\n",
    "    conn_info[\"sqluser\"] = 'postgres'\n",
    "    conn_info[\"sqlpass\"] = '243'\n",
    "    conn_info[\"sqlhost\"] = 'localhost'\n",
    "    conn_info[\"sqlport\"] = 5432\n",
    "    conn_info[\"dbname\"] = 'eicu'\n",
    "    conn_info[\"schema_name\"] = 'public,eicu'\n",
    "    \n",
    "# Connect to the eICU database\n",
    "print('Database: {}'.format(conn_info['dbname']))\n",
    "print('Username: {}'.format(conn_info[\"sqluser\"]))\n",
    "if conn_info[\"sqlpass\"] == '243':\n",
    "    # try connecting without password, i.e. peer or OS authentication\n",
    "    try:\n",
    "        if (conn_info[\"sqlhost\"] == 'localhost') & (conn_info[\"sqlport\"]=='5432'):\n",
    "            con = psycopg2.connect(dbname=conn_info[\"dbname\"],\n",
    "                                    user=conn_info[\"sqluser\"])            \n",
    "        else:\n",
    "            con = psycopg2.connect(dbname=conn_info[\"dbname\"],\n",
    "                                    host=conn_info[\"sqlhost\"],\n",
    "                                    port=conn_info[\"sqlport\"],\n",
    "                                    user=conn_info[\"sqluser\"])\n",
    "    except:\n",
    "        conn_info[\"sqlpass\"] = getpass.getpass('Password: ')\n",
    "    \n",
    "        con = psycopg2.connect(dbname=conn_info[\"dbname\"],\n",
    "                                host=conn_info[\"sqlhost\"],\n",
    "                                port=conn_info[\"sqlport\"],\n",
    "                                user=conn_info[\"sqluser\"],\n",
    "                                password=conn_info[\"sqlpass\"])\n",
    "query_schema = 'set search_path to ' + conn_info['schema_name'] + ';'"
   ]
  },
  {
   "cell_type": "code",
   "execution_count": 3,
   "metadata": {},
   "outputs": [],
   "source": [
    "#import patient data, if not exsit allpatientdata.csv file than please excute the patientdata.ipynb file first\n",
    "df=pd.read_csv(os.getcwd()+'\\\\allpatientfile.csv')"
   ]
  },
  {
   "cell_type": "code",
   "execution_count": 4,
   "metadata": {},
   "outputs": [],
   "source": [
    "def main():\n",
    "    start = time.clock()\n",
    "    #4 kinds of medicine we want to extract\n",
    "    ftName_0 = ['Vasopressor', 'Relaxant', 'Sedation', 'PPI']\n",
    "    ftName = ['patientunitstayid']\n",
    "    for i in range(0,len(ftName_0)):\n",
    "        for j in range(0,30):\n",
    "            ftName.append('%s D%02d'%(ftName_0[i], j+1))\n",
    "    df_IFD = pd.DataFrame(columns= ftName)\n",
    "    th = 0\n",
    "    for i in range(0,len(df)):\n",
    "        print(\"%d/%d: %s\"%(i,len(df),df['patientunitstayid'][i]),end='\\r')\n",
    "        df_IFD = Infusiondrug(df['patientunitstayid'][i], df['Firstday'][i], df['LoS'][i], th, df_IFD, ftName_0)\n",
    "        th =th+1\n",
    "    df_IFD.to_csv(os.getcwd()+'\\\\infusiondrug.csv',index=False)\n",
    "    end = time.clock() - start\n",
    "    print(end)"
   ]
  },
  {
   "cell_type": "code",
   "execution_count": 5,
   "metadata": {},
   "outputs": [],
   "source": [
    "#可調整輸出的方式\n",
    "#adjust the extract data into output format\n",
    "def Featrue_all_value_with_day(ft_name, day, df_infusiondrug):\n",
    "    temp_1 = [0]\n",
    "    for j in range(0,len(df_infusiondrug.index)):\n",
    "        if df_infusiondrug['drugname'][j] == ft_name:  \n",
    "                if df_infusiondrug['date'][j] == day: \n",
    "                    if df_infusiondrug['drugrate'][j] != 0:\n",
    "                        df_infusiondrug['drugrate'][j] = 1\n",
    "                        temp_1.append(df_infusiondrug['drugrate'][j])\n",
    "    if len(temp_1) != 1:\n",
    "        temp_1.pop(0)\n",
    "    return np.max(temp_1)\n"
   ]
  },
  {
   "cell_type": "code",
   "execution_count": 6,
   "metadata": {
    "scrolled": true
   },
   "outputs": [],
   "source": [
    "def Infusiondrug(patientunitstayid, Firstday, lenofstay, th, df_IFD, ftName_0):\n",
    "    query = query_schema + \"\"\"\n",
    "    select *\n",
    "    from infusiondrug\n",
    "    where patientunitstayid = '{}'\n",
    "    order by infusionoffset\n",
    "    \"\"\".format(int(patientunitstayid))\n",
    "\n",
    "    df_infusiondrug = pd.read_sql_query(query, con)\n",
    "    df_infusiondrug = df_infusiondrug[['patientunitstayid','infusionoffset','drugname','drugrate']]\n",
    "\n",
    "    date = np.zeros((len(df_infusiondrug.index),), dtype=int)\n",
    "    df_infusiondrug['date'] = date\n",
    "    #calculate event time by days\n",
    "    for i in range(0,len(df_infusiondrug.index)):\n",
    "        temp = df_infusiondrug['infusionoffset'][i]\n",
    "        if temp < Firstday:\n",
    "            df_infusiondrug['date'][i] = 1\n",
    "        elif temp >= Firstday:\n",
    "            temp = temp - Firstday\n",
    "            df_infusiondrug['date'][i] = temp // (24*60) + 2\n",
    "    ftName = ['patientunitstayid']\n",
    "\n",
    "    if df_infusiondrug.size == 0:\n",
    "        space_row = [patientunitstayid]\n",
    "        for i in range(len(ftName_0)):\n",
    "            for j in range(0,30):\n",
    "                if j >= int(lenofstay):\n",
    "                    space_row.append(0)\n",
    "                else:\n",
    "                    space_row.append(0)\n",
    "        df_IFD = df_IFD.append(pd.Series(space_row, index=df_IFD.columns), ignore_index=True)\n",
    "    else:\n",
    "        space_row = [patientunitstayid]\n",
    "        for i in range(len(ftName_0)):\n",
    "            for j in range(0,30):\n",
    "                if j >= int(lenofstay):\n",
    "                    space_row.append(0)\n",
    "                else:\n",
    "                    space_row.append(0)\n",
    "        df_IFD = df_IFD.append(pd.Series(space_row, index=df_IFD.columns), ignore_index=True)\n",
    "        #choose the madicine we want and turn it into same class\n",
    "        for i in range(0,len(df_infusiondrug.index)):\n",
    "            temp = df_infusiondrug['drugname'][i].lower().strip(' ')\n",
    "\n",
    "            if(temp==''):\n",
    "                continue\n",
    "            else:\n",
    "                temp = temp.split()[0]\n",
    "\n",
    "                if temp == 'norepinephrine' or temp == 'epinephrine' or temp == 'dopmaine' or temp == 'vasopressin':\n",
    "                    df_infusiondrug['drugname'][i] = 'Vasopressor'\n",
    "                elif temp == 'nimbex' or temp == 'vecuronium':\n",
    "                    df_infusiondrug['drugname'][i] = 'Relaxant'\n",
    "                elif temp == 'midazolam' or temp == 'propofol' or temp == 'precedex' or temp == 'dexmedetomidine':\n",
    "                    df_infusiondrug['drugname'][i] = 'Sedation'        \n",
    "                elif temp == 'esomeprazole' or temp =='pantoprazole':\n",
    "                    df_infusiondrug['drugname'][i] = 'PPI'\n",
    "                elif temp =='fentanyl':\n",
    "                    df_infusiondrug['drugname'][i] = 'Pain control'\n",
    "                else:\n",
    "                    continue\n",
    "    \n",
    "        #將計算好的值放入表格中  \n",
    "        #put the calculated value into sheet and call \"Feature_all_value_with_day\" function to turning it into specific format\n",
    "        for i in range(0,len(ftName_0)):\n",
    "            for j in range(0,30):\n",
    "                if j >= int(lenofstay):\n",
    "                    break\n",
    "                else:\n",
    "                    str_temp = '%s D%02d'%(ftName_0[i],j+1)\n",
    "                    df_IFD[str_temp][th] = Featrue_all_value_with_day(ftName_0[i],j+1,df_infusiondrug)\n",
    "    return df_IFD"
   ]
  },
  {
   "cell_type": "code",
   "execution_count": 7,
   "metadata": {
    "scrolled": true
   },
   "outputs": [
    {
     "name": "stderr",
     "output_type": "stream",
     "text": [
      "c:\\users\\userpc\\miniconda3\\envs\\243\\lib\\site-packages\\ipykernel_launcher.py:2: DeprecationWarning: time.clock has been deprecated in Python 3.3 and will be removed from Python 3.8: use time.perf_counter or time.process_time instead\n",
      "  \n"
     ]
    },
    {
     "name": "stdout",
     "output_type": "stream",
     "text": [
      "0/2676: 251510.0\r"
     ]
    },
    {
     "name": "stderr",
     "output_type": "stream",
     "text": [
      "c:\\users\\userpc\\miniconda3\\envs\\243\\lib\\site-packages\\ipykernel_launcher.py:18: SettingWithCopyWarning: \n",
      "A value is trying to be set on a copy of a slice from a DataFrame\n",
      "\n",
      "See the caveats in the documentation: https://pandas.pydata.org/pandas-docs/stable/user_guide/indexing.html#returning-a-view-versus-a-copy\n",
      "c:\\users\\userpc\\miniconda3\\envs\\243\\lib\\site-packages\\ipykernel_launcher.py:21: SettingWithCopyWarning: \n",
      "A value is trying to be set on a copy of a slice from a DataFrame\n",
      "\n",
      "See the caveats in the documentation: https://pandas.pydata.org/pandas-docs/stable/user_guide/indexing.html#returning-a-view-versus-a-copy\n",
      "c:\\users\\userpc\\miniconda3\\envs\\243\\lib\\site-packages\\ipykernel_launcher.py:52: SettingWithCopyWarning: \n",
      "A value is trying to be set on a copy of a slice from a DataFrame\n",
      "\n",
      "See the caveats in the documentation: https://pandas.pydata.org/pandas-docs/stable/user_guide/indexing.html#returning-a-view-versus-a-copy\n",
      "c:\\users\\userpc\\miniconda3\\envs\\243\\lib\\site-packages\\ipykernel_launcher.py:9: SettingWithCopyWarning: \n",
      "A value is trying to be set on a copy of a slice from a DataFrame\n",
      "\n",
      "See the caveats in the documentation: https://pandas.pydata.org/pandas-docs/stable/user_guide/indexing.html#returning-a-view-versus-a-copy\n",
      "  if __name__ == '__main__':\n"
     ]
    },
    {
     "name": "stdout",
     "output_type": "stream",
     "text": [
      "2/2676: 257541.0\r"
     ]
    },
    {
     "name": "stderr",
     "output_type": "stream",
     "text": [
      "c:\\users\\userpc\\miniconda3\\envs\\243\\lib\\site-packages\\ipykernel_launcher.py:56: SettingWithCopyWarning: \n",
      "A value is trying to be set on a copy of a slice from a DataFrame\n",
      "\n",
      "See the caveats in the documentation: https://pandas.pydata.org/pandas-docs/stable/user_guide/indexing.html#returning-a-view-versus-a-copy\n"
     ]
    },
    {
     "name": "stdout",
     "output_type": "stream",
     "text": [
      "7/2676: 264716.0\r"
     ]
    },
    {
     "name": "stderr",
     "output_type": "stream",
     "text": [
      "c:\\users\\userpc\\miniconda3\\envs\\243\\lib\\site-packages\\ipykernel_launcher.py:60: SettingWithCopyWarning: \n",
      "A value is trying to be set on a copy of a slice from a DataFrame\n",
      "\n",
      "See the caveats in the documentation: https://pandas.pydata.org/pandas-docs/stable/user_guide/indexing.html#returning-a-view-versus-a-copy\n"
     ]
    },
    {
     "name": "stdout",
     "output_type": "stream",
     "text": [
      "137/2676: 427977.0\r"
     ]
    },
    {
     "name": "stderr",
     "output_type": "stream",
     "text": [
      "c:\\users\\userpc\\miniconda3\\envs\\243\\lib\\site-packages\\ipykernel_launcher.py:54: SettingWithCopyWarning: \n",
      "A value is trying to be set on a copy of a slice from a DataFrame\n",
      "\n",
      "See the caveats in the documentation: https://pandas.pydata.org/pandas-docs/stable/user_guide/indexing.html#returning-a-view-versus-a-copy\n"
     ]
    },
    {
     "name": "stdout",
     "output_type": "stream",
     "text": [
      "169/2676: 460005.0\r"
     ]
    },
    {
     "name": "stderr",
     "output_type": "stream",
     "text": [
      "c:\\users\\userpc\\miniconda3\\envs\\243\\lib\\site-packages\\ipykernel_launcher.py:58: SettingWithCopyWarning: \n",
      "A value is trying to be set on a copy of a slice from a DataFrame\n",
      "\n",
      "See the caveats in the documentation: https://pandas.pydata.org/pandas-docs/stable/user_guide/indexing.html#returning-a-view-versus-a-copy\n"
     ]
    },
    {
     "name": "stdout",
     "output_type": "stream",
     "text": [
      "1320.9641343353226.0\n"
     ]
    },
    {
     "name": "stderr",
     "output_type": "stream",
     "text": [
      "c:\\users\\userpc\\miniconda3\\envs\\243\\lib\\site-packages\\ipykernel_launcher.py:16: DeprecationWarning: time.clock has been deprecated in Python 3.3 and will be removed from Python 3.8: use time.perf_counter or time.process_time instead\n",
      "  app.launch_new_instance()\n"
     ]
    }
   ],
   "source": [
    "if __name__ is '__main__':\n",
    "    main()"
   ]
  },
  {
   "cell_type": "code",
   "execution_count": null,
   "metadata": {},
   "outputs": [],
   "source": []
  }
 ],
 "metadata": {
  "kernelspec": {
   "display_name": "Python 3 (ipykernel)",
   "language": "python",
   "name": "python3"
  },
  "language_info": {
   "codemirror_mode": {
    "name": "ipython",
    "version": 3
   },
   "file_extension": ".py",
   "mimetype": "text/x-python",
   "name": "python",
   "nbconvert_exporter": "python",
   "pygments_lexer": "ipython3",
   "version": "3.7.4"
  }
 },
 "nbformat": 4,
 "nbformat_minor": 4
}
