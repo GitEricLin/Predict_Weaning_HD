{
 "cells": [
  {
   "cell_type": "code",
   "execution_count": 7,
   "metadata": {},
   "outputs": [],
   "source": [
    "import os\n",
    "import numpy as np\n",
    "import pandas as pd\n",
    "import matplotlib.pyplot as plt\n",
    "import psycopg2\n",
    "import getpass\n",
    "import pdvega\n",
    "import time\n",
    "import re\n",
    "from configobj import ConfigObj"
   ]
  },
  {
   "cell_type": "code",
   "execution_count": 8,
   "metadata": {},
   "outputs": [
    {
     "name": "stdout",
     "output_type": "stream",
     "text": [
      "Database: eicu\n",
      "Username: postgres\n",
      "Password: ········\n"
     ]
    }
   ],
   "source": [
    "# Create a posgresql database connection using settings from config file \n",
    "\n",
    "# Create a database connection using settings from config file\n",
    "config='../db/config.ini'\n",
    "# connection info\n",
    "conn_info = dict()\n",
    "if os.path.isfile(config):\n",
    "    config = ConfigObj(config)\n",
    "    conn_info[\"sqluser\"] = config['username']\n",
    "    conn_info[\"sqlpass\"] = config['password']\n",
    "    conn_info[\"sqlhost\"] = config['host']\n",
    "    conn_info[\"sqlport\"] = config['port']\n",
    "    conn_info[\"dbname\"] = config['dbname']\n",
    "    conn_info[\"schema_name\"] = config['schema_name']\n",
    "else:\n",
    "    conn_info[\"sqluser\"] = 'postgres'\n",
    "    conn_info[\"sqlpass\"] = '243'\n",
    "    conn_info[\"sqlhost\"] = 'localhost'\n",
    "    conn_info[\"sqlport\"] = 5432\n",
    "    conn_info[\"dbname\"] = 'eicu'\n",
    "    conn_info[\"schema_name\"] = 'public,eicu'\n",
    "    \n",
    "# Connect to the eICU database\n",
    "print('Database: {}'.format(conn_info['dbname']))\n",
    "print('Username: {}'.format(conn_info[\"sqluser\"]))\n",
    "if conn_info[\"sqlpass\"] == '243':\n",
    "    # try connecting without password, i.e. peer or OS authentication\n",
    "    try:\n",
    "        if (conn_info[\"sqlhost\"] == 'localhost') & (conn_info[\"sqlport\"]=='5432'):\n",
    "            con = psycopg2.connect(dbname=conn_info[\"dbname\"],\n",
    "                                    user=conn_info[\"sqluser\"])            \n",
    "        else:\n",
    "            con = psycopg2.connect(dbname=conn_info[\"dbname\"],\n",
    "                                    host=conn_info[\"sqlhost\"],\n",
    "                                    port=conn_info[\"sqlport\"],\n",
    "                                    user=conn_info[\"sqluser\"])\n",
    "    except:\n",
    "        conn_info[\"sqlpass\"] = getpass.getpass('Password: ')\n",
    "    \n",
    "        con = psycopg2.connect(dbname=conn_info[\"dbname\"],\n",
    "                                host=conn_info[\"sqlhost\"],\n",
    "                                port=conn_info[\"sqlport\"],\n",
    "                                user=conn_info[\"sqluser\"],\n",
    "                                password=conn_info[\"sqlpass\"])\n",
    "query_schema = 'set search_path to ' + conn_info['schema_name'] + ';'"
   ]
  },
  {
   "cell_type": "code",
   "execution_count": 9,
   "metadata": {},
   "outputs": [],
   "source": [
    "#import patient data, if not exsit allpatientdata.csv file than please excute the patientdata.ipynb file first\n",
    "df=pd.read_csv(os.getcwd()+'\\\\allpatientfile.csv')"
   ]
  },
  {
   "cell_type": "code",
   "execution_count": 10,
   "metadata": {},
   "outputs": [],
   "source": [
    "def main():\n",
    "    start = time.clock()\n",
    "    ftName_0 = ['Nasal cannula O2', 'Compliance', 'FiO2', 'Mean airway pressure',\n",
    "                'Minute ventilation', 'PC mode', 'Peak airway pressure', 'PEEP',\n",
    "                'Plateau', 'Pressure support', 'Bipap', 'Respiratory rate', \n",
    "                'RSBI','SaO2', 'tidal volume', 'ROXindex']\n",
    "    ftName = ['patientunitstayid']\n",
    "    for i in range(0,len(ftName_0)):\n",
    "        for j in range(0,30):\n",
    "            ftName.append('%s D%02d'%(ftName_0[i], j+1))\n",
    "    df_RC = pd.DataFrame(columns= ftName)\n",
    "    th = 0\n",
    "    for i in range(0,len(df)):\n",
    "        print('%d/%d:%s'%(i,len(df),df['patientunitstayid'][i]),end='\\r')\n",
    "        df_RC = Respiratorycharting(df['patientunitstayid'][i], df['Firstday'][i], df['LoS'][i], th, df_RC, ftName_0)\n",
    "        th=th+1\n",
    "    df_RC.to_csv(os.getcwd()+'\\\\respiratorycharting.csv',index=False)\n",
    "    end = time.clock() - start\n",
    "    print(end)"
   ]
  },
  {
   "cell_type": "code",
   "execution_count": 11,
   "metadata": {},
   "outputs": [],
   "source": [
    "#可調整輸出的方式\n",
    "#adjust the extract data into output format\n",
    "def Featrue_all_value_with_day(ft_name, day, df_respiratorycharting):\n",
    "    temp_1 = [-0.001]\n",
    "    for j in range(0,len(df_respiratorycharting.index)):\n",
    "        if df_respiratorycharting['respchartvaluelabel'][j] == ft_name:  \n",
    "            if df_respiratorycharting['date'][j] == day:\n",
    "                if df_respiratorycharting['respchartvaluelabel'][j] == 'Bipap' and len(df_respiratorycharting['respchartvalue'][j])!=0:\n",
    "                    temp_1.append(1)\n",
    "                    continue\n",
    "                temp_ex = df_respiratorycharting['respchartvalue'][j].strip(' ')\n",
    "                temp_ex =  re.sub(u\"([^\\u0030-\\u0039\\.])\",\"\",temp_ex)\n",
    "                if temp_ex.strip() == '':\n",
    "                    continue\n",
    "                else:\n",
    "                    temp_1.append(float(temp_ex))\n",
    "    if len(temp_1) != 1:\n",
    "           temp_1.pop(0)\n",
    "    return np.min(temp_1)"
   ]
  },
  {
   "cell_type": "code",
   "execution_count": 12,
   "metadata": {
    "scrolled": true
   },
   "outputs": [],
   "source": [
    "def Respiratorycharting(patientunitstayid, Firstday, lenofstay, th, df_RC, ftName_0):\n",
    "    query = query_schema + \"\"\"\n",
    "    select *\n",
    "    from respiratorycharting\n",
    "    where patientunitstayid = '{}'\n",
    "    order by respchartoffset\n",
    "    \"\"\".format(int(patientunitstayid))\n",
    "\n",
    "    df_respiratorycharting = pd.read_sql_query(query, con)\n",
    "    df_respiratorycharting = df_respiratorycharting[['patientunitstayid','respchartoffset','respchartvaluelabel', 'respchartvalue']]\n",
    "\n",
    "    #計算該row是第幾天\n",
    "    #calculate event time by days\n",
    "    date = np.zeros((len(df_respiratorycharting.index),), dtype=int)\n",
    "    df_respiratorycharting['date'] = date\n",
    "    for i in range(0,len(df_respiratorycharting.index)):\n",
    "        temp = df_respiratorycharting['respchartoffset'][i]\n",
    "        if temp < Firstday:\n",
    "            df_respiratorycharting['date'][i] = 1\n",
    "        elif temp >= Firstday:\n",
    "            temp = temp - Firstday\n",
    "            df_respiratorycharting['date'][i] = temp // (24*60) + 2\n",
    "            \n",
    "    #創建表格及預設值       \n",
    "    #create sheet and default value\n",
    "    space_row = [patientunitstayid]\n",
    "    for i in range(len(ftName_0)):\n",
    "        for j in range(0,30):\n",
    "            if j >= int(lenofstay):\n",
    "                space_row.append(' ')\n",
    "            else:\n",
    "                space_row.append(' ')\n",
    "    droplist = []\n",
    "    if df_respiratorycharting.size == 0:\n",
    "        df_RC = df_RC.append(pd.Series(space_row, index=df_RC.columns), ignore_index=True)\n",
    "    else:\n",
    "        df_RC = df_RC.append(pd.Series(space_row, index=df_RC.columns), ignore_index=True)\n",
    "        \n",
    "        ##讀進來的名稱先轉小寫再進行比較，然後修改成需要的名稱格式\n",
    "        #Trun the name in to lower class, than comparing. After that change it into specific format\n",
    "        for i in range(0,len(df_respiratorycharting.index)):\n",
    "            temp = df_respiratorycharting['respchartvaluelabel'][i].lower().strip(' ')\n",
    "            if temp == 'lpm o2':\n",
    "                df_respiratorycharting['respchartvaluelabel'][i] = 'Nasal cannula O2'\n",
    "                temp_ex = df_respiratorycharting['respchartvalue'][i].strip('%')\n",
    "            elif temp == 'compliance' or temp == 'mechanical ventilator compliance' or temp == 'static compliance':\n",
    "                df_respiratorycharting['respchartvaluelabel'][i] = 'Compliance'\n",
    "            elif temp == 'fio2' or temp == 'fio2 (%)' or temp == 'o2 percentage' or temp == 'set fraction of inspired oxygen (fio2)':\n",
    "                df_respiratorycharting['respchartvaluelabel'][i] = 'FiO2'\n",
    "                temp_ex = df_respiratorycharting['respchartvalue'][i].strip('%')\n",
    "            elif temp == 'mean airway pressure':\n",
    "                df_respiratorycharting['respchartvaluelabel'][i] = 'Mean airway pressure'\n",
    "            elif temp == 'exhaled mv or temp' or temp == 'minute volume, spontaneous' or temp == 'measured ve':\n",
    "                df_respiratorycharting['respchartvaluelabel'][i] = 'Minute ventilation'\n",
    "            elif temp == 'pressure control':\n",
    "                df_respiratorycharting['respchartvaluelabel'][i] = 'PC mode'\n",
    "            elif temp == 'peak insp. pressure' or temp == 'peak pressure':\n",
    "                df_respiratorycharting['respchartvaluelabel'][i] = 'Peak airway pressure'\n",
    "            elif temp == 'peep' or temp == 'peep/cpap':\n",
    "                df_respiratorycharting['respchartvaluelabel'][i] = 'PEEP'\n",
    "            elif temp == 'plateau pressure':\n",
    "                df_respiratorycharting['respchartvaluelabel'][i] = 'Plateau'\n",
    "            elif temp == 'pressure support' or temp == 'PS':\n",
    "                df_respiratorycharting['respchartvaluelabel'][i] = 'Pressure support'\n",
    "            elif temp == 'mechanical ventilator resistance':\n",
    "                df_respiratorycharting['respchartvaluelabel'][i] = 'Resistance'\n",
    "            elif temp == 'vent rate' or temp == 'total rr' or temp == 'rr (patient)' or temp == 'resp rate total' or temp == 'f total' or temp == 'spontaneous respiratory rate' or temp == 'rr spont':\n",
    "                df_respiratorycharting['respchartvaluelabel'][i] = 'Respiratory rate'\n",
    "            elif temp == 'total rsbi':\n",
    "                df_respiratorycharting['respchartvaluelabel'][i] = 'RSBI'\n",
    "            elif temp == 'sao2':\n",
    "                df_respiratorycharting['respchartvaluelabel'][i] = 'SaO2'\n",
    "            elif temp == 'bipap delivery mode':\n",
    "                df_respiratorycharting['respchartvaluelabel'][i] = 'Bipap'\n",
    "            elif temp == 'tv/kg ibw':\n",
    "                if df['gender'][0] == 'Female':\n",
    "                    PBW = 45.5 + 0.91 * (df['height'][0] - 152.4)\n",
    "                    df_respiratorycharting['respchartvalue'][i] = str(int(float(df_respiratorycharting['respchartvalue'][i]) * PBW))\n",
    "                elif df['gender'][0] == 'Male':\n",
    "                    PBW = 50.0 + 0.91 * (df['height'][0] - 152.4)\n",
    "                    df_respiratorycharting['respchartvalue'][i] = str(int(float(df_respiratorycharting['respchartvalue'][i]) * PBW))\n",
    "                df_respiratorycharting['respchartvaluelabel'][i] = 'tidal volume'\n",
    "            elif temp == 'tidal volume observed (vt)' or temp == 'exhaled tv (patient)' or temp == 'tidal volume, delivered' or temp == 'exhaled vt' or temp == 'spont tv':\n",
    "                df_respiratorycharting['respchartvaluelabel'][i] = 'tidal volume'\n",
    "        \n",
    "    #將計算好的值放入表格中\n",
    "    #put the calculated value into sheet and call \"Feature_all_value_with_day\" function to turning it into specific format\n",
    "        for i in range(0,len(ftName_0)):\n",
    "            for j in range(0,30):\n",
    "                if j >= int(lenofstay):\n",
    "                    break\n",
    "                else:\n",
    "                    str_temp = '%s D%02d'%(ftName_0[i],j+1)\n",
    "                    df_RC[str_temp][th] = Featrue_all_value_with_day(ftName_0[i],j+1,df_respiratorycharting)  \n",
    "    return df_RC"
   ]
  },
  {
   "cell_type": "code",
   "execution_count": 13,
   "metadata": {
    "scrolled": true
   },
   "outputs": [
    {
     "name": "stderr",
     "output_type": "stream",
     "text": [
      "c:\\users\\userpc\\miniconda3\\envs\\243\\lib\\site-packages\\ipykernel_launcher.py:2: DeprecationWarning: time.clock has been deprecated in Python 3.3 and will be removed from Python 3.8: use time.perf_counter or time.process_time instead\n",
      "  \n"
     ]
    },
    {
     "name": "stdout",
     "output_type": "stream",
     "text": [
      "0/2676:251510.0\r"
     ]
    },
    {
     "name": "stderr",
     "output_type": "stream",
     "text": [
      "c:\\users\\userpc\\miniconda3\\envs\\243\\lib\\site-packages\\ipykernel_launcher.py:22: SettingWithCopyWarning: \n",
      "A value is trying to be set on a copy of a slice from a DataFrame\n",
      "\n",
      "See the caveats in the documentation: https://pandas.pydata.org/pandas-docs/stable/user_guide/indexing.html#returning-a-view-versus-a-copy\n",
      "c:\\users\\userpc\\miniconda3\\envs\\243\\lib\\site-packages\\ipykernel_launcher.py:84: SettingWithCopyWarning: \n",
      "A value is trying to be set on a copy of a slice from a DataFrame\n",
      "\n",
      "See the caveats in the documentation: https://pandas.pydata.org/pandas-docs/stable/user_guide/indexing.html#returning-a-view-versus-a-copy\n",
      "c:\\users\\userpc\\miniconda3\\envs\\243\\lib\\site-packages\\ipykernel_launcher.py:49: SettingWithCopyWarning: \n",
      "A value is trying to be set on a copy of a slice from a DataFrame\n",
      "\n",
      "See the caveats in the documentation: https://pandas.pydata.org/pandas-docs/stable/user_guide/indexing.html#returning-a-view-versus-a-copy\n",
      "c:\\users\\userpc\\miniconda3\\envs\\243\\lib\\site-packages\\ipykernel_launcher.py:52: SettingWithCopyWarning: \n",
      "A value is trying to be set on a copy of a slice from a DataFrame\n",
      "\n",
      "See the caveats in the documentation: https://pandas.pydata.org/pandas-docs/stable/user_guide/indexing.html#returning-a-view-versus-a-copy\n",
      "c:\\users\\userpc\\miniconda3\\envs\\243\\lib\\site-packages\\ipykernel_launcher.py:60: SettingWithCopyWarning: \n",
      "A value is trying to be set on a copy of a slice from a DataFrame\n",
      "\n",
      "See the caveats in the documentation: https://pandas.pydata.org/pandas-docs/stable/user_guide/indexing.html#returning-a-view-versus-a-copy\n",
      "c:\\users\\userpc\\miniconda3\\envs\\243\\lib\\site-packages\\ipykernel_launcher.py:58: SettingWithCopyWarning: \n",
      "A value is trying to be set on a copy of a slice from a DataFrame\n",
      "\n",
      "See the caveats in the documentation: https://pandas.pydata.org/pandas-docs/stable/user_guide/indexing.html#returning-a-view-versus-a-copy\n",
      "c:\\users\\userpc\\miniconda3\\envs\\243\\lib\\site-packages\\ipykernel_launcher.py:68: SettingWithCopyWarning: \n",
      "A value is trying to be set on a copy of a slice from a DataFrame\n",
      "\n",
      "See the caveats in the documentation: https://pandas.pydata.org/pandas-docs/stable/user_guide/indexing.html#returning-a-view-versus-a-copy\n",
      "c:\\users\\userpc\\miniconda3\\envs\\243\\lib\\site-packages\\ipykernel_launcher.py:81: SettingWithCopyWarning: \n",
      "A value is trying to be set on a copy of a slice from a DataFrame\n",
      "\n",
      "See the caveats in the documentation: https://pandas.pydata.org/pandas-docs/stable/user_guide/indexing.html#returning-a-view-versus-a-copy\n",
      "c:\\users\\userpc\\miniconda3\\envs\\243\\lib\\site-packages\\ipykernel_launcher.py:82: SettingWithCopyWarning: \n",
      "A value is trying to be set on a copy of a slice from a DataFrame\n",
      "\n",
      "See the caveats in the documentation: https://pandas.pydata.org/pandas-docs/stable/user_guide/indexing.html#returning-a-view-versus-a-copy\n",
      "c:\\users\\userpc\\miniconda3\\envs\\243\\lib\\site-packages\\ipykernel_launcher.py:64: SettingWithCopyWarning: \n",
      "A value is trying to be set on a copy of a slice from a DataFrame\n",
      "\n",
      "See the caveats in the documentation: https://pandas.pydata.org/pandas-docs/stable/user_guide/indexing.html#returning-a-view-versus-a-copy\n",
      "c:\\users\\userpc\\miniconda3\\envs\\243\\lib\\site-packages\\ipykernel_launcher.py:44: SettingWithCopyWarning: \n",
      "A value is trying to be set on a copy of a slice from a DataFrame\n",
      "\n",
      "See the caveats in the documentation: https://pandas.pydata.org/pandas-docs/stable/user_guide/indexing.html#returning-a-view-versus-a-copy\n",
      "c:\\users\\userpc\\miniconda3\\envs\\243\\lib\\site-packages\\ipykernel_launcher.py:94: SettingWithCopyWarning: \n",
      "A value is trying to be set on a copy of a slice from a DataFrame\n",
      "\n",
      "See the caveats in the documentation: https://pandas.pydata.org/pandas-docs/stable/user_guide/indexing.html#returning-a-view-versus-a-copy\n"
     ]
    },
    {
     "name": "stdout",
     "output_type": "stream",
     "text": [
      "1/2676:255084.0\r"
     ]
    },
    {
     "name": "stderr",
     "output_type": "stream",
     "text": [
      "c:\\users\\userpc\\miniconda3\\envs\\243\\lib\\site-packages\\ipykernel_launcher.py:19: SettingWithCopyWarning: \n",
      "A value is trying to be set on a copy of a slice from a DataFrame\n",
      "\n",
      "See the caveats in the documentation: https://pandas.pydata.org/pandas-docs/stable/user_guide/indexing.html#returning-a-view-versus-a-copy\n"
     ]
    },
    {
     "name": "stdout",
     "output_type": "stream",
     "text": [
      "21/2676:307232.0\r"
     ]
    },
    {
     "name": "stderr",
     "output_type": "stream",
     "text": [
      "c:\\users\\userpc\\miniconda3\\envs\\243\\lib\\site-packages\\ipykernel_launcher.py:62: SettingWithCopyWarning: \n",
      "A value is trying to be set on a copy of a slice from a DataFrame\n",
      "\n",
      "See the caveats in the documentation: https://pandas.pydata.org/pandas-docs/stable/user_guide/indexing.html#returning-a-view-versus-a-copy\n"
     ]
    },
    {
     "name": "stdout",
     "output_type": "stream",
     "text": [
      "25/2676:311838.0\r"
     ]
    },
    {
     "name": "stderr",
     "output_type": "stream",
     "text": [
      "c:\\users\\userpc\\miniconda3\\envs\\243\\lib\\site-packages\\ipykernel_launcher.py:72: SettingWithCopyWarning: \n",
      "A value is trying to be set on a copy of a slice from a DataFrame\n",
      "\n",
      "See the caveats in the documentation: https://pandas.pydata.org/pandas-docs/stable/user_guide/indexing.html#returning-a-view-versus-a-copy\n"
     ]
    },
    {
     "name": "stdout",
     "output_type": "stream",
     "text": [
      "137/2676:427977.0\r"
     ]
    },
    {
     "name": "stderr",
     "output_type": "stream",
     "text": [
      "c:\\users\\userpc\\miniconda3\\envs\\243\\lib\\site-packages\\ipykernel_launcher.py:47: SettingWithCopyWarning: \n",
      "A value is trying to be set on a copy of a slice from a DataFrame\n",
      "\n",
      "See the caveats in the documentation: https://pandas.pydata.org/pandas-docs/stable/user_guide/indexing.html#returning-a-view-versus-a-copy\n"
     ]
    },
    {
     "name": "stdout",
     "output_type": "stream",
     "text": [
      "145/2676:439487.0\r"
     ]
    },
    {
     "name": "stderr",
     "output_type": "stream",
     "text": [
      "c:\\users\\userpc\\miniconda3\\envs\\243\\lib\\site-packages\\ipykernel_launcher.py:56: SettingWithCopyWarning: \n",
      "A value is trying to be set on a copy of a slice from a DataFrame\n",
      "\n",
      "See the caveats in the documentation: https://pandas.pydata.org/pandas-docs/stable/user_guide/indexing.html#returning-a-view-versus-a-copy\n"
     ]
    },
    {
     "name": "stdout",
     "output_type": "stream",
     "text": [
      "993/2676:960746.0\r"
     ]
    },
    {
     "name": "stderr",
     "output_type": "stream",
     "text": [
      "c:\\users\\userpc\\miniconda3\\envs\\243\\lib\\site-packages\\ipykernel_launcher.py:54: SettingWithCopyWarning: \n",
      "A value is trying to be set on a copy of a slice from a DataFrame\n",
      "\n",
      "See the caveats in the documentation: https://pandas.pydata.org/pandas-docs/stable/user_guide/indexing.html#returning-a-view-versus-a-copy\n"
     ]
    },
    {
     "name": "stdout",
     "output_type": "stream",
     "text": [
      "1465/2676:1553458.0\r"
     ]
    },
    {
     "name": "stderr",
     "output_type": "stream",
     "text": [
      "c:\\users\\userpc\\miniconda3\\envs\\243\\lib\\site-packages\\ipykernel_launcher.py:70: SettingWithCopyWarning: \n",
      "A value is trying to be set on a copy of a slice from a DataFrame\n",
      "\n",
      "See the caveats in the documentation: https://pandas.pydata.org/pandas-docs/stable/user_guide/indexing.html#returning-a-view-versus-a-copy\n"
     ]
    },
    {
     "name": "stdout",
     "output_type": "stream",
     "text": [
      "2446/2676:3204862.0\r"
     ]
    },
    {
     "name": "stderr",
     "output_type": "stream",
     "text": [
      "c:\\users\\userpc\\miniconda3\\envs\\243\\lib\\site-packages\\ipykernel_launcher.py:74: SettingWithCopyWarning: \n",
      "A value is trying to be set on a copy of a slice from a DataFrame\n",
      "\n",
      "See the caveats in the documentation: https://pandas.pydata.org/pandas-docs/stable/user_guide/indexing.html#returning-a-view-versus-a-copy\n"
     ]
    },
    {
     "name": "stdout",
     "output_type": "stream",
     "text": [
      "2447/2676:3204871.0\r"
     ]
    },
    {
     "name": "stderr",
     "output_type": "stream",
     "text": [
      "c:\\users\\userpc\\miniconda3\\envs\\243\\lib\\site-packages\\ipykernel_launcher.py:66: SettingWithCopyWarning: \n",
      "A value is trying to be set on a copy of a slice from a DataFrame\n",
      "\n",
      "See the caveats in the documentation: https://pandas.pydata.org/pandas-docs/stable/user_guide/indexing.html#returning-a-view-versus-a-copy\n"
     ]
    },
    {
     "name": "stdout",
     "output_type": "stream",
     "text": [
      "6621.849893200037.0\n"
     ]
    },
    {
     "name": "stderr",
     "output_type": "stream",
     "text": [
      "c:\\users\\userpc\\miniconda3\\envs\\243\\lib\\site-packages\\ipykernel_launcher.py:18: DeprecationWarning: time.clock has been deprecated in Python 3.3 and will be removed from Python 3.8: use time.perf_counter or time.process_time instead\n"
     ]
    }
   ],
   "source": [
    "if __name__ is '__main__':\n",
    "    main()"
   ]
  },
  {
   "cell_type": "code",
   "execution_count": 14,
   "metadata": {},
   "outputs": [],
   "source": [
    "#mask\n",
    "df=pd.read_csv(os.getcwd()+'\\\\respiratorycharting.csv')\n",
    "df= df.mask(df=='-0.001')\n",
    "df= df.mask(df==-0.001)\n",
    "df=df.mask(df==0)\n",
    "df=df.mask(df==0.0)\n",
    "df=df.mask(df=='0')\n",
    "df=df.mask(df=='0.0')\n",
    "df.mask(df==' ').to_csv(os.getcwd()+'\\\\respiratorycharting_mask.csv',index=False)"
   ]
  },
  {
   "cell_type": "code",
   "execution_count": 15,
   "metadata": {},
   "outputs": [],
   "source": [
    "#filtering the outliner\n",
    "df=pd.read_csv(os.getcwd()+'\\\\respiratorycharting_mask.csv')\n",
    "for i in range(0,len(df.index)):\n",
    "    for j in range(1,31):\n",
    "        if df['Nasal cannula O2 D%02d'%j][i] > 6:\n",
    "            df['Nasal cannula O2 D%02d'%j][i]=6\n",
    "\n",
    "        if df['Nasal cannula O2 D%02d'%j][i] < 0:\n",
    "            df['Nasal cannula O2 D%02d'%j][i]=0\n",
    "\n",
    "        if df['Compliance D%02d'%j][i] > 100:\n",
    "            df['Compliance D%02d'%j][i]=100\n",
    "\n",
    "        if df['PEEP D%02d'%j][i]<0 or df['PEEP D%02d'%j][i]>25:\n",
    "            df['PEEP D%02d'%j][i]=0\n",
    "\n",
    "        if df['PEEP D%02d'%j][i]>25:\n",
    "            df['PEEP D%02d'%j][i]=25\n",
    "\n",
    "        if df['FiO2 D%02d'%j][i] > 100 or df['FiO2 D%02d'%j][i] < 20:\n",
    "            df['FiO2 D%02d'%j][i]=100\n",
    "\n",
    "        if df['FiO2 D%02d'%j][i] < 20:\n",
    "            df['FiO2 D%02d'%j][i]=20\n",
    "            \n",
    "        if df['Mean airway pressure D%02d'%j][i] < 5:\n",
    "            df['Mean airway pressure D%02d'%j][i] = 5\n",
    "            \n",
    "        if df['Mean airway pressure D%02d'%j][i] > 50:\n",
    "            df['Mean airway pressure D%02d'%j][i]=50\n",
    "\n",
    "        if df['Minute ventilation D%02d'%j][i] > 50:\n",
    "            df['Minute ventilation D%02d'%j][i]=50\n",
    "\n",
    "        if df['PC mode D%02d'%j][i] > 50:\n",
    "            df['PC mode D%02d'%j][i]=50\n",
    "\n",
    "        if df['Peak airway pressure D%02d'%j][i] > 50:\n",
    "            df['Peak airway pressure D%02d'%j][i]=50\n",
    "\n",
    "        if df['Plateau D%02d'%j][i] > 50:\n",
    "            df['Plateau D%02d'%j][i]=50\n",
    "\n",
    "        if df['Pressure support D%02d'%j][i] > 50:\n",
    "            df['Pressure support D%02d'%j][i]=50\n",
    "\n",
    "        if df['RSBI D%02d'%j][i] > 200:\n",
    "            df['RSBI D%02d'%j][i]=200\n",
    "\n",
    "        if df['Respiratory rate D%02d'%j][i] < 7:\n",
    "            df['Respiratory rate D%02d'%j][i] = 7\n",
    "            \n",
    "        if df['Respiratory rate D%02d'%j][i] > 55:\n",
    "            df['Respiratory rate D%02d'%j][i]=55\n",
    "\n",
    "        if df['tidal volume D%02d'%j][i] < 20:\n",
    "            df['tidal volume D%02d'%j][i] = 20\n",
    "            \n",
    "        if df['tidal volume D%02d'%j][i] > 1000:\n",
    "            df['tidal volume D%02d'%j][i]=1000\n",
    "\n",
    "df.to_csv(os.getcwd()+'\\\\respiratorycharting_mask.csv',index=False)"
   ]
  },
  {
   "cell_type": "code",
   "execution_count": 21,
   "metadata": {},
   "outputs": [
    {
     "name": "stdout",
     "output_type": "stream",
     "text": [
      "0/2676:251510.0\r",
      "1/2676:255084.0\r"
     ]
    },
    {
     "name": "stderr",
     "output_type": "stream",
     "text": [
      "c:\\users\\userpc\\miniconda3\\envs\\243\\lib\\site-packages\\ipykernel_launcher.py:34: RuntimeWarning: Mean of empty slice\n"
     ]
    },
    {
     "name": "stdout",
     "output_type": "stream",
     "text": [
      "2675/2676:3353226.0\r"
     ]
    }
   ],
   "source": [
    "#complement \n",
    "df = pd.read_csv(os.getcwd()+'\\\\respiratorycharting_mask.csv')\n",
    "ftName_0 = ['Nasal cannula O2', 'Compliance', 'FiO2', 'Mean airway pressure',\n",
    "                'Minute ventilation', 'PC mode', 'Peak airway pressure', 'PEEP',\n",
    "                'Plateau', 'Pressure support', 'Respiratory rate', \n",
    "                'RSBI','SaO2','tidal volume', 'ROXindex']\n",
    "\n",
    "for i in range(0,len(df)):\n",
    "    print('%d/%d:%s'%(i,len(df),df['patientunitstayid'][i]),end='\\r')\n",
    "    for j in ftName_0:\n",
    "        current=0\n",
    "        flag=0\n",
    "        for day in range(1,31):\n",
    "            if(not pd.isna(df['%s D%02d'%(j,day)][i]) and flag==0):\n",
    "                flag=1#find first value of a month\n",
    "                current=df['%s D%02d'%(j,day)][i]\n",
    "                #print(current,flag,day)\n",
    "                break\n",
    "        if(flag==1):\n",
    "            #print(123)\n",
    "            for missing in range(1,day):\n",
    "                df['%s D%02d'%(j,missing)][i]=current\n",
    "            flag=2#if there is a null value than put the value of previous day into it\n",
    "        #print(df['%s D%02d'%('Nasal cannula O2',1)][i])\n",
    "        if(flag==2):\n",
    "            for missing in range(2,31):\n",
    "                if(pd.isna(df['%s D%02d'%(j,missing)][i]) and not pd.isna(df['%s D%02d'%(j,missing-1)][i])):\n",
    "                    df['%s D%02d'%(j,missing)][i]=df['%s D%02d'%(j,missing-1)][i]\n",
    "        mean=[]\n",
    "        if(flag==0):\n",
    "            for k in range(0,len(df)):\n",
    "                mean.append(df['%s D01'%j][k])\n",
    "            for day in range(1,31):\n",
    "                df['%s D%02d'%(j,day)][i]=np.nanmean(mean)\n",
    "df.to_csv('respiratorycharting_com.csv',index=False)\n",
    "                "
   ]
  },
  {
   "cell_type": "code",
   "execution_count": 22,
   "metadata": {},
   "outputs": [],
   "source": [
    "#insert target to show wheather the patient using ventilator or not\n",
    "df = pd.read_csv(os.getcwd()+'\\\\respiratorycharting_com.csv')\n",
    "d=[]\n",
    "for i in range(0,len(df)):\n",
    "    d.append(np.nan)\n",
    "for i in range(1,31):\n",
    "    df.insert(len(df.columns),\"target D%02d\"%(i),d)\n",
    "df.to_csv(os.getcwd()+'\\\\respiratorycharting_com.csv',index=False)"
   ]
  },
  {
   "cell_type": "code",
   "execution_count": 23,
   "metadata": {},
   "outputs": [],
   "source": [
    "#insert target to show wheather the patient using ventilator or not\n",
    "df2 = pd.read_csv(os.getcwd()+'\\\\respiratorycharting_com.csv')#target\n",
    "df = pd.read_csv(os.getcwd()+'\\\\respiratorycharting_mask.csv')\n",
    "\n",
    "for i in range(0,len(df)):\n",
    "    for k in range(1,31):\n",
    "        if(not pd.isna(df['PEEP D%02d'%(k)][i])):\n",
    "            df2['target D%02d'%(k)][i]=1\n",
    "            '''\n",
    "        elif(pd.isna(df['PEEP D%02d'%(k)][i])):\n",
    "            if(not pd.isna(df['Bipap D%02d'%(k)][i]) or not pd.isna(df['Nasal cannula O2 D%02d'%(k)][i])):\n",
    "            '''\n",
    "        else:\n",
    "            df2['target D%02d'%(k)][i]=0\n",
    "for i in range(0,len(df)):\n",
    "#i=2498\n",
    "    flag=0\n",
    "    start=0\n",
    "    end=0\n",
    "    for k in range(2,30):\n",
    "        if(not pd.isna(df['PEEP D%02d'%k][i]) and flag==0 and pd.isna(df['PEEP D%02d'%(k+1)][i])):\n",
    "            start=k\n",
    "            flag=1\n",
    "        if(not pd.isna(df['PEEP D%02d'%k][i]) and flag==1and pd.isna(df['PEEP D%02d'%(k-1)][i])):\n",
    "            #if(not pd.isna(df['Bipap D%02d'%(k-1)][i]) or not pd.isna(df['Nasal cannula O2 D%02d'%(k-1)][i])):\n",
    "            end=k\n",
    "        #print(k,start,end)\n",
    "        if(0<end-start<=5 and flag==1):\n",
    "            for j in range(start,end):\n",
    "                df2['target D%02d'%j][i]=1.0\n",
    "            start=0\n",
    "            end=0\n",
    "            flag=0\n",
    "df2.to_csv(os.getcwd()+'\\\\respiratorycharting_com.csv',index=False)"
   ]
  },
  {
   "cell_type": "code",
   "execution_count": null,
   "metadata": {},
   "outputs": [],
   "source": []
  }
 ],
 "metadata": {
  "kernelspec": {
   "display_name": "Python 3 (ipykernel)",
   "language": "python",
   "name": "python3"
  },
  "language_info": {
   "codemirror_mode": {
    "name": "ipython",
    "version": 3
   },
   "file_extension": ".py",
   "mimetype": "text/x-python",
   "name": "python",
   "nbconvert_exporter": "python",
   "pygments_lexer": "ipython3",
   "version": "3.7.4"
  }
 },
 "nbformat": 4,
 "nbformat_minor": 4
}
