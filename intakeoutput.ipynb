{
 "cells": [
  {
   "cell_type": "code",
   "execution_count": 1,
   "id": "bc8f8ade",
   "metadata": {},
   "outputs": [],
   "source": [
    "import os\n",
    "import numpy as np\n",
    "import pandas as pd\n",
    "import matplotlib.pyplot as plt\n",
    "import psycopg2\n",
    "import getpass\n",
    "import pdvega\n",
    "import time\n",
    "from configobj import ConfigObj"
   ]
  },
  {
   "cell_type": "code",
   "execution_count": 2,
   "id": "058cfa91",
   "metadata": {},
   "outputs": [
    {
     "name": "stdout",
     "output_type": "stream",
     "text": [
      "Database: eicu\n",
      "Username: postgres\n",
      "Password: ········\n"
     ]
    }
   ],
   "source": [
    "# Create a posgresql database connection using settings from config file \n",
    "config='../db/config.ini'\n",
    "# connection info\n",
    "conn_info = dict()\n",
    "if os.path.isfile(config):\n",
    "    config = ConfigObj(config)\n",
    "    conn_info[\"sqluser\"] = config['username']\n",
    "    conn_info[\"sqlpass\"] = config['password']\n",
    "    conn_info[\"sqlhost\"] = config['host']\n",
    "    conn_info[\"sqlport\"] = config['port']\n",
    "    conn_info[\"dbname\"] = config['dbname']\n",
    "    conn_info[\"schema_name\"] = config['schema_name']\n",
    "else:\n",
    "    conn_info[\"sqluser\"] = 'postgres'\n",
    "    conn_info[\"sqlpass\"] = '243'\n",
    "    conn_info[\"sqlhost\"] = 'localhost'\n",
    "    conn_info[\"sqlport\"] = 5432\n",
    "    conn_info[\"dbname\"] = 'eicu'\n",
    "    conn_info[\"schema_name\"] = 'public,eicu'\n",
    "    \n",
    "# Connect to the eICU database\n",
    "print('Database: {}'.format(conn_info['dbname']))\n",
    "print('Username: {}'.format(conn_info[\"sqluser\"]))\n",
    "if conn_info[\"sqlpass\"] == '243':\n",
    "    # try connecting without password, i.e. peer or OS authentication\n",
    "    try:\n",
    "        if (conn_info[\"sqlhost\"] == 'localhost') & (conn_info[\"sqlport\"]=='5432'):\n",
    "            con = psycopg2.connect(dbname=conn_info[\"dbname\"],\n",
    "                                   user=conn_info[\"sqluser\"])            \n",
    "        else:\n",
    "            con = psycopg2.connect(dbname=conn_info[\"dbname\"],\n",
    "                                   host=conn_info[\"sqlhost\"],\n",
    "                                   port=conn_info[\"sqlport\"],\n",
    "                                   user=conn_info[\"sqluser\"])\n",
    "    except:\n",
    "        conn_info[\"sqlpass\"] = getpass.getpass('Password: ')\n",
    "\n",
    "        con = psycopg2.connect(dbname=conn_info[\"dbname\"],\n",
    "                               host=conn_info[\"sqlhost\"],\n",
    "                               port=conn_info[\"sqlport\"],\n",
    "                               user=conn_info[\"sqluser\"],\n",
    "                               password=conn_info[\"sqlpass\"])\n",
    "query_schema = 'set search_path to ' + conn_info['schema_name'] + ';'"
   ]
  },
  {
   "cell_type": "code",
   "execution_count": 3,
   "id": "05f53b0a",
   "metadata": {},
   "outputs": [],
   "source": [
    "#import patient data, if not exsit allpatientdata.csv file than please excute the patientdata.ipynb file first\n",
    "df=pd.read_csv(os.getcwd()+'\\\\allpatientfile.csv')"
   ]
  },
  {
   "cell_type": "code",
   "execution_count": 4,
   "id": "a6621d9c",
   "metadata": {},
   "outputs": [],
   "source": [
    "#可調整輸出的方式\n",
    "#adjust the extract data into output format\n",
    "def Featrue_all_value_with_day(ft_name, day, df_intakeoutput):\n",
    "    temp_1 = [-0.001]\n",
    "    for j in range(0,len(df_intakeoutput.index)):\n",
    "        if df_intakeoutput['date'][j] == day: \n",
    "            temp_1.append(df_intakeoutput[ft_name][j])\n",
    "    if len(temp_1) != 1:\n",
    "        temp_1.pop(0)  \n",
    "    temp = 0\n",
    "    count_space = 0\n",
    "    for i in range(len(temp_1)):\n",
    "        if temp_1[i] == -0.001:\n",
    "            count_space = count_space + 1\n",
    "            continue\n",
    "        else:\n",
    "            temp = temp + temp_1[i]\n",
    "    if len(temp_1) == 1:\n",
    "        if temp_1[0] == -0.001:\n",
    "            temp = -0.001\n",
    "    return temp"
   ]
  },
  {
   "cell_type": "code",
   "execution_count": 5,
   "id": "d40302d9",
   "metadata": {},
   "outputs": [],
   "source": [
    "def Intakeoutput(patientunitstayid, Firstday, lenofstay, th, df_IO, ftName_0):\n",
    "    query = query_schema + \"\"\"\n",
    "    select *\n",
    "    from intakeoutput\n",
    "    where patientunitstayid = '{}'\n",
    "    order by intakeoutputoffset\n",
    "    \"\"\".format(int(patientunitstayid))\n",
    "    df_intakeoutput = pd.read_sql_query(query, con)\n",
    "    df_intakeoutput = df_intakeoutput[['patientunitstayid','intakeoutputoffset','intaketotal','outputtotal','dialysistotal','nettotal']]\n",
    "    \n",
    "    #計算該row是第幾天\n",
    "    #calculate event time by days\n",
    "    date = np.zeros((len(df_intakeoutput.index),), dtype=int)\n",
    "    df_intakeoutput['date'] = date\n",
    "    for i in range(0,len(df_intakeoutput.index)):\n",
    "        temp = df_intakeoutput['intakeoutputoffset'][i]\n",
    "        if temp < Firstday:\n",
    "            df_intakeoutput['date'][i] = 1\n",
    "        elif temp >= Firstday:\n",
    "            temp = temp - Firstday\n",
    "            df_intakeoutput['date'][i] = temp // (24*60) + 2\n",
    "    \n",
    "    #創建表格及預設值\n",
    "    #create sheet and default value\n",
    "    ftName_0 = ['intaketotal', 'outputtotal', 'dialysistotal', 'nettotal']\n",
    "    ftName = ['patientunitstayid']\n",
    "    space_row = [patientunitstayid]\n",
    "    for i in range(len(ftName_0)):\n",
    "        for j in range(0,30):\n",
    "            if j >= int(lenofstay):\n",
    "                space_row.append(-0.001)\n",
    "            else:\n",
    "                space_row.append(-0.001)\n",
    "    if df_intakeoutput.size == 0:\n",
    "        df_IO = df_IO.append(pd.Series(space_row, index=df_IO.columns), ignore_index=True)\n",
    "    else:\n",
    "        df_IO = df_IO.append(pd.Series(space_row, index=df_IO.columns), ignore_index=True)\n",
    "        df_intakeoutput = df_intakeoutput.drop_duplicates(subset=['intakeoutputoffset'],keep = 'first')\n",
    "        df_intakeoutput.index=range(0,len(df_intakeoutput.index))\n",
    "        for i in range(0,len(df_intakeoutput.index)):\n",
    "            for j in range(0,len(ftName_0)):\n",
    "                if pd.isna(df_intakeoutput[ftName_0[j]][i]):\n",
    "                    df_intakeoutput[ftName_0[j]][i] = -0.001 \n",
    "        \n",
    "        #將計算好的值放入表格中\n",
    "        #put the calculated value into sheet and call \"Feature_all_value_with_day\" function to turning it into specific format\n",
    "        for i in range(0,4):\n",
    "            for j in range(0,30):\n",
    "                if j >= int(lenofstay):\n",
    "                    break\n",
    "                else:\n",
    "                    str_temp = '%s D%02d'%(ftName_0[i],j+1)\n",
    "                    df_IO[str_temp][th] = Featrue_all_value_with_day(ftName_0[i],j+1,df_intakeoutput)  \n",
    "    return df_IO"
   ]
  },
  {
   "cell_type": "code",
   "execution_count": 6,
   "id": "289b89ab",
   "metadata": {},
   "outputs": [],
   "source": [
    "def main():\n",
    "    start = time.clock()\n",
    "    #there are four features we need\n",
    "    ftName_0 = ['intaketotal', 'outputtotal', 'dialysistotal', 'nettotal']\n",
    "    ftName = ['patientunitstayid']\n",
    "    for i in range(0,len(ftName_0)):\n",
    "        for j in range(0,30):\n",
    "            ftName.append('%s D%02d'%(ftName_0[i], j+1))\n",
    "    df_IO = pd.DataFrame(columns= ftName)\n",
    "    th=0\n",
    "    for i in range(0,len(df)):\n",
    "        print(\"%d/%d: %s\"%(i,len(df),df['patientunitstayid'][i]),end='\\r')\n",
    "        df_IO = Intakeoutput(df['patientunitstayid'][i], df['Firstday'][i], df['LoS'][i], th, df_IO, ftName_0)\n",
    "        th=th+1\n",
    "    df_IO.to_csv(os.getcwd()+'\\\\intakeoutput.csv',index=False)\n",
    "    end = time.clock() - start\n",
    "    print(end)"
   ]
  },
  {
   "cell_type": "code",
   "execution_count": 7,
   "id": "47c645d5",
   "metadata": {
    "scrolled": true
   },
   "outputs": [
    {
     "name": "stderr",
     "output_type": "stream",
     "text": [
      "c:\\users\\userpc\\miniconda3\\envs\\243\\lib\\site-packages\\ipykernel_launcher.py:2: DeprecationWarning: time.clock has been deprecated in Python 3.3 and will be removed from Python 3.8: use time.perf_counter or time.process_time instead\n",
      "  \n"
     ]
    },
    {
     "name": "stdout",
     "output_type": "stream",
     "text": [
      "0/2676: 251510.0\r"
     ]
    },
    {
     "name": "stderr",
     "output_type": "stream",
     "text": [
      "c:\\users\\userpc\\miniconda3\\envs\\243\\lib\\site-packages\\ipykernel_launcher.py:18: SettingWithCopyWarning: \n",
      "A value is trying to be set on a copy of a slice from a DataFrame\n",
      "\n",
      "See the caveats in the documentation: https://pandas.pydata.org/pandas-docs/stable/user_guide/indexing.html#returning-a-view-versus-a-copy\n",
      "c:\\users\\userpc\\miniconda3\\envs\\243\\lib\\site-packages\\ipykernel_launcher.py:21: SettingWithCopyWarning: \n",
      "A value is trying to be set on a copy of a slice from a DataFrame\n",
      "\n",
      "See the caveats in the documentation: https://pandas.pydata.org/pandas-docs/stable/user_guide/indexing.html#returning-a-view-versus-a-copy\n"
     ]
    },
    {
     "name": "stdout",
     "output_type": "stream",
     "text": [
      "2711.6240708999685.0\n"
     ]
    },
    {
     "name": "stderr",
     "output_type": "stream",
     "text": [
      "c:\\users\\userpc\\miniconda3\\envs\\243\\lib\\site-packages\\ipykernel_launcher.py:16: DeprecationWarning: time.clock has been deprecated in Python 3.3 and will be removed from Python 3.8: use time.perf_counter or time.process_time instead\n",
      "  app.launch_new_instance()\n"
     ]
    }
   ],
   "source": [
    "if __name__ is '__main__':\n",
    "    main()"
   ]
  },
  {
   "cell_type": "code",
   "execution_count": 8,
   "id": "cd71e6ae",
   "metadata": {},
   "outputs": [],
   "source": [
    "#mask\n",
    "df=pd.read_csv(os.getcwd()+'\\\\intakeoutput.csv')\n",
    "df= df.mask(df==-0.001)\n",
    "df= df.mask(df==0)\n",
    "df.mask(df==' ').to_csv(os.getcwd()+'\\\\intakeoutput_mask.csv',index=False)"
   ]
  },
  {
   "cell_type": "code",
   "execution_count": 9,
   "id": "63d55935",
   "metadata": {},
   "outputs": [],
   "source": [
    "#filtering outliner\n",
    "df=pd.read_csv(os.getcwd()+'\\\\intakeoutput_mask.csv')\n",
    "droplist = []\n",
    "pid = []\n",
    "\n",
    "for i in range(0,len(df.index)):\n",
    "    for j in range(1,30):\n",
    "        if df['intaketotal D%02d'%j][i] > 20000 or df['intaketotal D%02d'%j][i] < -1:\n",
    "            df['intaketotal D%02d'%j][i]=np.nan\n",
    "        if df['outputtotal D%02d'%j][i] > 20000 or df['outputtotal D%02d'%j][i] < -1:\n",
    "            df['outputtotal D%02d'%j][i]=np.nan\n",
    "        if df['dialysistotal D%02d'%j][i] > 20000 or df['dialysistotal D%02d'%j][i] < -20000:\n",
    "            df['dialysistotal D%02d'%j][i]=np.nan\n",
    "        if df['nettotal D%02d'%j][i] > 20000 or df['nettotal D%02d'%j][i] < -20000:\n",
    "            df['nettotal D%02d'%j][i]=np.nan\n",
    "\n",
    "df.mask(df==-0.001).to_csv(os.getcwd()+'\\\\intakeoutput_mask.csv',index=False)"
   ]
  },
  {
   "cell_type": "code",
   "execution_count": 12,
   "id": "0cacd092",
   "metadata": {},
   "outputs": [],
   "source": [
    "#Unite the sign by feature\n",
    "df=pd.read_csv(os.getcwd()+'\\\\intakeoutput_mask.csv')\n",
    "for i in range(0,len(df)):\n",
    "    for j in range(1,31):\n",
    "        if(df['dialysistotal D%02d'%j][i]>0):\n",
    "            df['dialysistotal D%02d'%j][i]=-df['dialysistotal D%02d'%j][i]\n",
    "        if(df['outputtotal D%02d'%j][i]<0):\n",
    "            df['outputtotal D%02d'%j][i]=-df['outputtotal D%02d'%j][i]\n",
    "df.to_csv(os.getcwd()+'\\\\intakeoutput_mask.csv',index=False)"
   ]
  },
  {
   "cell_type": "code",
   "execution_count": 16,
   "id": "3beaabb9",
   "metadata": {},
   "outputs": [
    {
     "name": "stdout",
     "output_type": "stream",
     "text": [
      "2675/2676:3353226.0\r"
     ]
    }
   ],
   "source": [
    "#先前後補\n",
    "#imputation\n",
    "df = pd.read_csv(os.getcwd()+'\\\\intakeoutput_mask.csv')\n",
    "ftName_0 = ['intaketotal', 'outputtotal', 'dialysistotal']\n",
    "for i in range(0,len(df)):\n",
    "    \n",
    "    print('%d/%d:%s'%(i,len(df),df['patientunitstayid'][i]),end='\\r')\n",
    "    for j in ftName_0:\n",
    "        current=0\n",
    "        flag=0\n",
    "        for day in range(1,31):\n",
    "            if(not pd.isna(df['%s D%02d'%(j,day)][i]) and flag==0):\n",
    "                flag=1#find first value of a month\n",
    "                current=df['%s D%02d'%(j,day)][i]\n",
    "                #print(current,flag,day)\n",
    "                break\n",
    "        if(flag==1):\n",
    "            #print(123)\n",
    "            for missing in range(1,day):\n",
    "                df['%s D%02d'%(j,missing)][i]=current\n",
    "            flag=2#if there is a null value than put the value of previous day into it\n",
    "        #print(df['%s D%02d'%('Nasal cannula O2',1)][i])\n",
    "        if(flag==2):\n",
    "            for missing in range(2,31):\n",
    "                if(pd.isna(df['%s D%02d'%(j,missing)][i]) and not pd.isna(df['%s D%02d'%(j,missing-1)][i])):\n",
    "                    df['%s D%02d'%(j,missing)][i]=df['%s D%02d'%(j,missing-1)][i]\n",
    "        mean=[]\n",
    "        if(flag==0):\n",
    "            for k in range(0,len(df)):\n",
    "                mean.append(df['%s D01'%j][k])\n",
    "            for day in range(1,31):\n",
    "                df['%s D%02d'%(j,day)][i]=np.nanmean(mean)\n",
    "    for j in range(1,31):\n",
    "        if(pd.isna(df['nettotal D%02d'%j][i])):\n",
    "            df['nettotal D%02d'%j][i]=df['intaketotal D%02d'%j][i]-df['outputtotal D%02d'%j][i]+df['dialysistotal D%02d'%j][i]\n",
    "    j='nettotal'\n",
    "    current=0\n",
    "    flag=0\n",
    "    for day in range(1,31):\n",
    "        if(not pd.isna(df['%s D%02d'%(j,day)][i]) and flag==0):\n",
    "            flag=1#find first value of a month\n",
    "            current=df['%s D%02d'%(j,day)][i]\n",
    "            #print(current,flag,day)\n",
    "            break\n",
    "    if(flag==1):\n",
    "        #print(123)\n",
    "        for missing in range(1,day):\n",
    "            df['%s D%02d'%(j,missing)][i]=current\n",
    "        flag=2#if there is a null value than put the value of previous day into it\n",
    "    #print(df['%s D%02d'%('Nasal cannula O2',1)][i])\n",
    "    if(flag==2):\n",
    "        for missing in range(2,31):\n",
    "            if(pd.isna(df['%s D%02d'%(j,missing)][i]) and not pd.isna(df['%s D%02d'%(j,missing-1)][i])):\n",
    "                df['%s D%02d'%(j,missing)][i]=df['%s D%02d'%(j,missing-1)][i]\n",
    "df.to_csv('intakeoutput_com.csv',index=False)\n",
    "                "
   ]
  },
  {
   "cell_type": "code",
   "execution_count": null,
   "id": "d67d703a",
   "metadata": {},
   "outputs": [],
   "source": []
  }
 ],
 "metadata": {
  "kernelspec": {
   "display_name": "Python 3 (ipykernel)",
   "language": "python",
   "name": "python3"
  },
  "language_info": {
   "codemirror_mode": {
    "name": "ipython",
    "version": 3
   },
   "file_extension": ".py",
   "mimetype": "text/x-python",
   "name": "python",
   "nbconvert_exporter": "python",
   "pygments_lexer": "ipython3",
   "version": "3.7.4"
  }
 },
 "nbformat": 4,
 "nbformat_minor": 5
}
