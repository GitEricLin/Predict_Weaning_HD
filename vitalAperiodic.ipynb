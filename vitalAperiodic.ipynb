{
 "cells": [
  {
   "cell_type": "code",
   "execution_count": 1,
   "id": "d59ceedb",
   "metadata": {},
   "outputs": [],
   "source": [
    "import os\n",
    "import numpy as np\n",
    "import pandas as pd\n",
    "import matplotlib.pyplot as plt\n",
    "import psycopg2\n",
    "import getpass\n",
    "import pdvega\n",
    "import time\n",
    "from configobj import ConfigObj\n",
    "from glob import glob"
   ]
  },
  {
   "cell_type": "code",
   "execution_count": 2,
   "id": "d344082a",
   "metadata": {},
   "outputs": [
    {
     "name": "stdout",
     "output_type": "stream",
     "text": [
      "Database: eicu\n",
      "Username: postgres\n",
      "Password: ········\n"
     ]
    }
   ],
   "source": [
    "# Create a posgresql database connection using settings from config file \n",
    "# Create a database connection using settings from config file\n",
    "config='../db/config.ini'\n",
    "# connection info\n",
    "conn_info = dict()\n",
    "if os.path.isfile(config):\n",
    "    config = ConfigObj(config)\n",
    "    conn_info[\"sqluser\"] = config['username']\n",
    "    conn_info[\"sqlpass\"] = config['password']\n",
    "    conn_info[\"sqlhost\"] = config['host']\n",
    "    conn_info[\"sqlport\"] = config['port']\n",
    "    conn_info[\"dbname\"] = config['dbname']\n",
    "    conn_info[\"schema_name\"] = config['schema_name']\n",
    "else:\n",
    "    conn_info[\"sqluser\"] = 'postgres'\n",
    "    conn_info[\"sqlpass\"] = '243'\n",
    "    conn_info[\"sqlhost\"] = 'localhost'\n",
    "    conn_info[\"sqlport\"] = 5432\n",
    "    conn_info[\"dbname\"] = 'eicu'\n",
    "    conn_info[\"schema_name\"] = 'public,eicu'\n",
    "    \n",
    "# Connect to the eICU database\n",
    "print('Database: {}'.format(conn_info['dbname']))\n",
    "print('Username: {}'.format(conn_info[\"sqluser\"]))\n",
    "if conn_info[\"sqlpass\"] == '243':\n",
    "    # try connecting without password, i.e. peer or OS authentication\n",
    "    try:\n",
    "        if (conn_info[\"sqlhost\"] == 'localhost') & (conn_info[\"sqlport\"]=='5432'):\n",
    "            con = psycopg2.connect(dbname=conn_info[\"dbname\"],\n",
    "                                   user=conn_info[\"sqluser\"])            \n",
    "        else:\n",
    "            con = psycopg2.connect(dbname=conn_info[\"dbname\"],\n",
    "                                   host=conn_info[\"sqlhost\"],\n",
    "                                   port=conn_info[\"sqlport\"],\n",
    "                                   user=conn_info[\"sqluser\"])\n",
    "    except:\n",
    "        conn_info[\"sqlpass\"] = getpass.getpass('Password: ')\n",
    "\n",
    "        con = psycopg2.connect(dbname=conn_info[\"dbname\"],\n",
    "                               host=conn_info[\"sqlhost\"],\n",
    "                               port=conn_info[\"sqlport\"],\n",
    "                               user=conn_info[\"sqluser\"],\n",
    "                               password=conn_info[\"sqlpass\"])\n",
    "query_schema = 'set search_path to ' + conn_info['schema_name'] + ';'"
   ]
  },
  {
   "cell_type": "code",
   "execution_count": 3,
   "id": "d19a8685",
   "metadata": {},
   "outputs": [],
   "source": [
    "#import patient data, if not exsit allpatientdata.csv file than please excute the patientdata.ipynb file first\n",
    "df=pd.read_csv(os.getcwd()+'\\\\allpatientfile.csv')"
   ]
  },
  {
   "cell_type": "code",
   "execution_count": 9,
   "id": "9719e930",
   "metadata": {},
   "outputs": [],
   "source": [
    "def main():\n",
    "    ftName_0 = ['observationoffset','noninvasivesystolic', 'noninvasivediastolic', 'noninvasivemean']\n",
    "    ftName = ['patientunitstayid']\n",
    "    for i in range(0,len(ftName_0)):\n",
    "        ftName.append((ftName_0[i]))\n",
    "    df_VP2=pd.DataFrame(columns=ftName)\n",
    "    for i in range(0,len(df)):\n",
    "        print('%d/%d:%s'%(i,len(df),df['patientunitstayid'][i]),end='\\r')\n",
    "        df_VP2=gettreatmentoffset(df['patientunitstayid'][i],df['Firstday'][i],df_VP2)\n",
    "    df_VP2.to_csv(os.getcwd()+'\\\\vitalAperiodic.csv',index=False)"
   ]
  },
  {
   "cell_type": "code",
   "execution_count": 10,
   "id": "966fb5bc",
   "metadata": {},
   "outputs": [],
   "source": [
    "def gettreatmentoffset(patientunitstayid,firstday,df_VP2):\n",
    "    #calculate timing of dialysis\n",
    "    query = query_schema + \"\"\"\n",
    "    select distinct treatmentoffset\n",
    "    from treatment\n",
    "    where patientunitstayid = '{}' and treatmentstring like '%dialysis%' and activeupondischarge = 'False'\n",
    "    order by treatmentoffset\n",
    "    \"\"\".format(int(patientunitstayid))\n",
    "    df_treatment=pd.read_sql_query(query, con)\n",
    "    offset=[]\n",
    "    if(len(df_treatment)==0):\n",
    "        df_IOcelllabel=celllabel(patientunitstayid,firstday,df_VP2)\n",
    "        return df_IOcelllabel\n",
    "    for i in range (0,len(df_treatment)):\n",
    "        offset.append(df_treatment['treatmentoffset'][i])\n",
    "    df_treatmentoffset=getvitalaperiodic(patientunitstayid,firstday,offset,df_VP2)\n",
    "    return df_treatmentoffset"
   ]
  },
  {
   "cell_type": "code",
   "execution_count": 11,
   "id": "829ac84d",
   "metadata": {},
   "outputs": [],
   "source": [
    "def celllabel(patientunitstayid,firstday,df_VP2):\n",
    "    #calculte the timing of dialysis\n",
    "    query = query_schema + \"\"\"\n",
    "    select distinct intakeoutputoffset\n",
    "    from intakeoutput\n",
    "    where patientunitstayid = '{}' and celllabel like '%dialysis%'\n",
    "    order by intakeoutputoffset\n",
    "    \"\"\".format(int(patientunitstayid))\n",
    "    df_IO=pd.read_sql_query(query, con)\n",
    "    offset2=[]\n",
    "    if(len(df_IO)==0):\n",
    "        return None\n",
    "    else:\n",
    "        for i in range (0,len(df_IO)):\n",
    "            offset2.append(df_IO['intakeoutputoffset'][i])\n",
    "        df_check2=getvitalaperiodic(patientunitstayid,firstday,offset2,df_VP2)\n",
    "        return df_check2"
   ]
  },
  {
   "cell_type": "code",
   "execution_count": 12,
   "id": "0a6650db",
   "metadata": {},
   "outputs": [],
   "source": [
    "#calculate the time interval after the patient had dialysis and the day after dialysis, and fetch all the data in the time interval\n",
    "def getvitalaperiodic(patientunitstayid,firstday,offset,df_VP2):\n",
    "    hemodialysisdayend=-1000000\n",
    "    flag=0\n",
    "    for i in range(0,len(offset)):\n",
    "        #print(i)\n",
    "        if (offset[i] >hemodialysisdayend):\n",
    "            if (offset[i]>firstday):\n",
    "                if(offset[i]-firstday>1440):\n",
    "                    for j in range(1,100):\n",
    "                        temp=firstday+1440*j\n",
    "                        if(temp>offset[i]):\n",
    "                            hemodialysisdayend=temp\n",
    "                            break\n",
    "                else:\n",
    "                    hemodialysisdayend=firstday+1440\n",
    "            elif (offset[i]<firstday):\n",
    "                hemodialysisdayend=firstday\n",
    "            else:\n",
    "                hemodialysisdayend=firstday+1440\n",
    "            query = query_schema + \"\"\"\n",
    "            select *\n",
    "            from vitalaperiodic\n",
    "            where patientunitstayid = '{}' and observationoffset > {} and observationoffset <= {}\n",
    "            order by observationoffset\n",
    "            \"\"\".format(int(patientunitstayid),hemodialysisdayend-1440,hemodialysisdayend+2880)\n",
    "            df_vitalaperiodic=pd.read_sql_query(query, con)\n",
    "            df_vitalaperiodic=df_vitalaperiodic[['patientunitstayid','observationoffset','noninvasivesystolic', 'noninvasivediastolic', 'noninvasivemean']]\n",
    "            df_VP2=df_VP2.append(df_vitalaperiodic)\n",
    "            firstday=hemodialysisdayend\n",
    "        else:\n",
    "            continue;\n",
    "    return df_VP2"
   ]
  },
  {
   "cell_type": "code",
   "execution_count": 13,
   "id": "c37f15ff",
   "metadata": {
    "scrolled": true
   },
   "outputs": [
    {
     "name": "stdout",
     "output_type": "stream",
     "text": [
      "2675/2676:3353226.0\r"
     ]
    }
   ],
   "source": [
    "if __name__ is '__main__':\n",
    "    main()"
   ]
  },
  {
   "cell_type": "code",
   "execution_count": 14,
   "id": "a4b727ec",
   "metadata": {},
   "outputs": [],
   "source": [
    "#filtering the duplicate data\n",
    "df=pd.read_csv(os.getcwd()+'\\\\vitalAperiodic.csv')\n",
    "df=df.drop_duplicates()\n",
    "df.to_csv(os.getcwd()+'\\\\vitalAperiodic.csv',index=False)"
   ]
  },
  {
   "cell_type": "code",
   "execution_count": 15,
   "id": "93ef5135",
   "metadata": {},
   "outputs": [],
   "source": [
    "#sort data by patientunitstayid and observationoffset\n",
    "df=pd.read_csv(os.getcwd()+'\\\\vitalAperiodic.csv')\n",
    "df.sort_values(by=['patientunitstayid','observationoffset'],inplace=True)\n",
    "df.to_csv(os.getcwd()+'\\\\vitalAperiodic.csv',index=False)"
   ]
  },
  {
   "cell_type": "code",
   "execution_count": null,
   "id": "379a6759",
   "metadata": {},
   "outputs": [],
   "source": []
  }
 ],
 "metadata": {
  "kernelspec": {
   "display_name": "Python 3 (ipykernel)",
   "language": "python",
   "name": "python3"
  },
  "language_info": {
   "codemirror_mode": {
    "name": "ipython",
    "version": 3
   },
   "file_extension": ".py",
   "mimetype": "text/x-python",
   "name": "python",
   "nbconvert_exporter": "python",
   "pygments_lexer": "ipython3",
   "version": "3.7.4"
  }
 },
 "nbformat": 4,
 "nbformat_minor": 5
}
